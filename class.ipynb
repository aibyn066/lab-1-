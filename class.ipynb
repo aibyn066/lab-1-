{
 "cells": [
  {
   "cell_type": "code",
   "execution_count": 8,
   "id": "1987d8aa-40d8-469a-a1e8-14208289ccb6",
   "metadata": {},
   "outputs": [
    {
     "name": "stdin",
     "output_type": "stream",
     "text": [
      " aiby\n"
     ]
    },
    {
     "name": "stdout",
     "output_type": "stream",
     "text": [
      "aiby\n"
     ]
    }
   ],
   "source": [
    "\n",
    "class Stringg():\n",
    "\n",
    "    def __init__(self):\n",
    "        self.mystring = []\n",
    "    \n",
    "    def getString(self):\n",
    "        self.mystring = input()\n",
    "    \n",
    "    def printString(self):\n",
    "        print(self.mystring)\n",
    "\n",
    "Str = Stringg()\n",
    "Str.getString()\n",
    "Str.printString()"
   ]
  },
  {
   "cell_type": "code",
   "execution_count": 10,
   "id": "775a2e9f-cd1e-44b8-94c8-d0c7cb1a8360",
   "metadata": {},
   "outputs": [
    {
     "name": "stdout",
     "output_type": "stream",
     "text": [
      "0\n",
      "25\n"
     ]
    }
   ],
   "source": [
    "\n",
    "class Shape():\n",
    "\n",
    "    def __init__(self,length):\n",
    "        self.length = 0\n",
    "\n",
    "    def area(self):\n",
    "        self.arean = 0\n",
    "        return self.arean\n",
    "    \n",
    "class Square(Shape):\n",
    "    \"\"\"дочерняяя shape\"\"\"\n",
    "    def __init__(self, length):\n",
    "        super().__init__(length)\n",
    "        self.length = length\n",
    "\n",
    "    def area(self):\n",
    "        return self.length*self.length\n",
    "    \n",
    "\n",
    "mysqr = Shape(4)\n",
    "print(mysqr.area())\n",
    "mysqr = Square(5)\n",
    "print(mysqr.area())"
   ]
  },
  {
   "cell_type": "code",
   "execution_count": null,
   "id": "1749f936-49f4-43b0-8a6d-94573e13dd6d",
   "metadata": {},
   "outputs": [],
   "source": [
    "class Shape():\n",
    "\n",
    "    def __init__(self,length,width):\n",
    "        self.length = length\n",
    "        self.width = width\n",
    "\n",
    "    def area(self):\n",
    "        self.arean = 0\n",
    "        return self.arean\n",
    "    \n",
    "class Rectangle(Shape):\n",
    "\n",
    "    def __init__(self,length,width):\n",
    "        super().__init__(length,width)\n",
    "\n",
    "\n",
    "    def area(self):\n",
    "        return self.length*self.width\n",
    "\n",
    "\n",
    "myarea = Shape(5,4)\n",
    "print(myarea.area())\n",
    "myarea = Rectangle(5,3)\n",
    "print(myarea.area())\n",
    "\n",
    "        "
   ]
  },
  {
   "cell_type": "code",
   "execution_count": null,
   "id": "58a2f1d3-f68b-4fc5-b914-fcb48d04a9d4",
   "metadata": {},
   "outputs": [],
   "source": [
    "\n",
    "\n",
    "\n",
    "class Point():\n",
    "    \n",
    "    def __init__(self,xcoord,ycoord):\n",
    "        self.xcoord = int(xcoord)\n",
    "        self.ycoord = int(ycoord)\n",
    "    \n",
    "    def show(self):\n",
    "        return self.xcoord , self.ycoord\n",
    "    \n",
    "    def move(self,newx,newy):\n",
    "        self.xcoord = int(newx)\n",
    "        self.ycoord = int(newy)\n",
    "\n",
    "    \n",
    "    def dist(self,other_point):\n",
    "        dx = self.xcoord - other_point.xcoord\n",
    "        dy = self.ycoord - other_point.ycoord\n",
    "        distance = dx**2 + dy**2\n",
    "        return distance**0.5\n",
    "\n",
    "        \n",
    "\n",
    "point1 = Point(2,5)\n",
    "point2 = Point(1,1)\n",
    "\n",
    "\n",
    "\n",
    "print(point1.show())\n",
    "print(point2.show())\n",
    "\n",
    "point1.move(3,4)\n",
    "\n",
    "print(point1.show())\n",
    "\n",
    "print(point1.dist(point2))\n"
   ]
  },
  {
   "cell_type": "code",
   "execution_count": null,
   "id": "8711c267-e96e-49ed-a544-1e030a52b5e4",
   "metadata": {},
   "outputs": [],
   "source": [
    "class Account:\n",
    "    \n",
    "    def __init__(self,owner,balance):\n",
    "        self.owner = owner\n",
    "        self.balance = balance\n",
    "\n",
    "    def deposit(self,add):\n",
    "        \"\"\"пополняем наш баланс\"\"\"\n",
    "        self.balance += add\n",
    "        return f\"Баланс пополнен на {self.balance} \"\n",
    "    \n",
    "    def withdraw(self,minus):\n",
    "        \"\"\"снимаем деньги,если не хватает деньги , то ошибка\"\"\"\n",
    "        if(minus > self.balance):\n",
    "            print(\"Нехватка денег!\")\n",
    "        else:\n",
    "            self.balance -= minus\n",
    "            return f\"Было снято  { minus} + . Осталось на счету + {self.balance} \"\n",
    "\n",
    "\n",
    "Aibyn = Account(min,20000)\n",
    "print(Aibyn.deposit(10000))\n",
    "print(Aibyn.withdraw(40000))"
   ]
  },
  {
   "cell_type": "code",
   "execution_count": 3,
   "id": "a95ac913-c4d6-4165-8490-c403308a5c3f",
   "metadata": {},
   "outputs": [
    {
     "name": "stdout",
     "output_type": "stream",
     "text": [
      "[17, 19, 23, 31, 37]\n"
     ]
    }
   ],
   "source": [
    "\n",
    "def is_prime(n):\n",
    "    if n <= 2:\n",
    "        return False\n",
    "    \n",
    "    for i in range(2, int(n**0.5)+1):\n",
    "        if n%i==0:\n",
    "            return False\n",
    "            \n",
    "    return True\n",
    "\n",
    "n = [10, 15, 17, 19, 23, 25, 30, 31, 37, 40]\n",
    "\n",
    "prime_n = list(filter(lambda x:is_prime(x),n))\n",
    "print(prime_n)\n"
   ]
  }
 ],
 "metadata": {
  "kernelspec": {
   "display_name": "Python [conda env:base] *",
   "language": "python",
   "name": "conda-base-py"
  },
  "language_info": {
   "codemirror_mode": {
    "name": "ipython",
    "version": 3
   },
   "file_extension": ".py",
   "mimetype": "text/x-python",
   "name": "python",
   "nbconvert_exporter": "python",
   "pygments_lexer": "ipython3",
   "version": "3.12.7"
  }
 },
 "nbformat": 4,
 "nbformat_minor": 5
}
