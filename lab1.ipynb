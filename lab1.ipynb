{
 "cells": [
  {
   "cell_type": "markdown",
   "id": "898f6303-1497-4f2b-8250-a94a1fd437ef",
   "metadata": {},
   "source": [
    "example 1"
   ]
  },
  {
   "cell_type": "code",
   "execution_count": 2,
   "id": "20bd31a3-691a-405a-92de-4c91040ef594",
   "metadata": {},
   "outputs": [
    {
     "name": "stdout",
     "output_type": "stream",
     "text": [
      "Hello, World!\n"
     ]
    }
   ],
   "source": [
    "print(\"Hello, World!\") "
   ]
  },
  {
   "cell_type": "markdown",
   "id": "0321d49d-40a6-4fb0-8c10-30f386376f7e",
   "metadata": {},
   "source": [
    "example 2"
   ]
  },
  {
   "cell_type": "code",
   "execution_count": 4,
   "id": "2f58eb3f-2d63-4a76-beea-4820dd4eaa09",
   "metadata": {},
   "outputs": [
    {
     "name": "stdout",
     "output_type": "stream",
     "text": [
      "Five is greater then two!\n"
     ]
    }
   ],
   "source": [
    "if 5>2:\n",
    "    print(\"Five is greater then two!\")"
   ]
  },
  {
   "cell_type": "markdown",
   "id": "d97a85f2-5a8c-4405-a3ee-1ddd4c80593d",
   "metadata": {},
   "source": [
    "example 3"
   ]
  },
  {
   "cell_type": "code",
   "execution_count": 6,
   "id": "ff5692a9-d967-4330-b001-dffa1375681f",
   "metadata": {},
   "outputs": [],
   "source": [
    "x = 5 \n",
    "y = \"Hello World!\""
   ]
  },
  {
   "cell_type": "markdown",
   "id": "b19ad22b-2d15-4038-a878-ba01ba4e83a5",
   "metadata": {},
   "source": [
    "example 4"
   ]
  },
  {
   "cell_type": "code",
   "execution_count": 8,
   "id": "f2745fd2-fceb-41e8-8e7a-408b055356a8",
   "metadata": {},
   "outputs": [
    {
     "name": "stdout",
     "output_type": "stream",
     "text": [
      "Hello, World!\n"
     ]
    }
   ],
   "source": [
    "#This is a comment.\n",
    "print(\"Hello, World!\")"
   ]
  },
  {
   "cell_type": "markdown",
   "id": "f38c92c0-6b33-41a5-a140-f93747eb7ae2",
   "metadata": {},
   "source": [
    "example 5"
   ]
  },
  {
   "cell_type": "code",
   "execution_count": 10,
   "id": "06ed84c8-389f-4a3a-a9c7-49d76e233f75",
   "metadata": {},
   "outputs": [
    {
     "name": "stdout",
     "output_type": "stream",
     "text": [
      "Cheers, Mate!\n"
     ]
    }
   ],
   "source": [
    "#print(\"Hello, World!\")\n",
    "print(\"Cheers, Mate!\")"
   ]
  },
  {
   "cell_type": "markdown",
   "id": "8e73629d-a90c-43e2-9a59-536ac3188929",
   "metadata": {},
   "source": [
    "example 6"
   ]
  },
  {
   "cell_type": "code",
   "execution_count": 12,
   "id": "a505f5ae-2aea-4383-a3fa-008afbb58430",
   "metadata": {},
   "outputs": [
    {
     "name": "stdout",
     "output_type": "stream",
     "text": [
      "Hello, World!\n"
     ]
    }
   ],
   "source": [
    "#This is a comment\n",
    "#written in\n",
    "#more than just one line\n",
    "print(\"Hello, World!\")"
   ]
  },
  {
   "cell_type": "markdown",
   "id": "63d0ec6f-54f2-43b2-8c2a-6be651d4e274",
   "metadata": {},
   "source": [
    "example 7"
   ]
  },
  {
   "cell_type": "code",
   "execution_count": 14,
   "id": "bc659fb0-fe9e-42a2-b298-959880d434e6",
   "metadata": {},
   "outputs": [
    {
     "name": "stdout",
     "output_type": "stream",
     "text": [
      "5\n",
      "John\n"
     ]
    }
   ],
   "source": [
    "x = 5  # x is of type int \n",
    "y = \"John\" # y is of type str\n",
    "print(x)\n",
    "print(y)"
   ]
  },
  {
   "cell_type": "markdown",
   "id": "4e6fc349-728a-4ba2-a4af-2e889a61844f",
   "metadata": {},
   "source": [
    "example 8"
   ]
  },
  {
   "cell_type": "code",
   "execution_count": 16,
   "id": "56f600de-2a1b-429a-a96b-359627dbb518",
   "metadata": {},
   "outputs": [],
   "source": [
    "x = str(3) #x will be '3'\n",
    "y = int(3) #y will be 3\n",
    "z = float(3) #z will be 3.0"
   ]
  },
  {
   "cell_type": "markdown",
   "id": "04f859e7-0056-48a4-8829-089c0a3b8a19",
   "metadata": {},
   "source": [
    "example 9"
   ]
  },
  {
   "cell_type": "code",
   "execution_count": 18,
   "id": "7331624a-3852-4eb6-8d27-4497812f0568",
   "metadata": {},
   "outputs": [
    {
     "name": "stdout",
     "output_type": "stream",
     "text": [
      "<class 'int'>\n",
      "<class 'str'>\n"
     ]
    }
   ],
   "source": [
    "x = 5\n",
    "y = \"John\"\n",
    "print(type(x))\n",
    "print(type(y))\n"
   ]
  },
  {
   "cell_type": "markdown",
   "id": "794041e2-2d83-46f4-8ea1-8296c7094fff",
   "metadata": {},
   "source": [
    "example 10"
   ]
  },
  {
   "cell_type": "code",
   "execution_count": 20,
   "id": "dcbaa1e7-e344-490a-91c3-91144278c23f",
   "metadata": {},
   "outputs": [
    {
     "name": "stdout",
     "output_type": "stream",
     "text": [
      "John\n"
     ]
    }
   ],
   "source": [
    "x = \"John\"\n",
    "#is the same as\n",
    "x = 'John'\n",
    "print(x)"
   ]
  },
  {
   "cell_type": "markdown",
   "id": "f036e0fe-985b-421d-a463-92029aef2d0e",
   "metadata": {},
   "source": [
    "example 11"
   ]
  },
  {
   "cell_type": "code",
   "execution_count": 22,
   "id": "84bb588c-d8f5-44ac-9ec7-5f25478aaa28",
   "metadata": {},
   "outputs": [],
   "source": [
    "myvar = \"John\"\n",
    "my_var = \"John\"\n",
    "_my_var = \"John\"\n",
    "myVar = \"John\"\n",
    "MYVAR = \"John\"\n",
    "myvar2 = \"John\""
   ]
  },
  {
   "cell_type": "markdown",
   "id": "7a5ae00e-d775-4d8b-9c03-4fcd2ccda5b3",
   "metadata": {},
   "source": [
    "example 12"
   ]
  },
  {
   "cell_type": "code",
   "execution_count": 24,
   "id": "70e77aeb-327f-4d46-ad31-c4cda2e4a546",
   "metadata": {},
   "outputs": [
    {
     "name": "stdout",
     "output_type": "stream",
     "text": [
      "Orange\n",
      "Banana\n",
      "Cherry\n"
     ]
    }
   ],
   "source": [
    "x , y , z = \"Orange\", \"Banana\" , \"Cherry\" \n",
    "print(x)\n",
    "print(y)\n",
    "print(z)"
   ]
  },
  {
   "cell_type": "markdown",
   "id": "dfa097ba-6bdc-4f1d-bf84-f051e521d737",
   "metadata": {},
   "source": [
    "example 13"
   ]
  },
  {
   "cell_type": "code",
   "execution_count": 26,
   "id": "f57c9c55-101d-42ba-830e-fe419e7f2daf",
   "metadata": {},
   "outputs": [
    {
     "name": "stdout",
     "output_type": "stream",
     "text": [
      "apple\n",
      "banana\n",
      "cherry\n"
     ]
    }
   ],
   "source": [
    "fruits = [\"apple\", \"banana\", \"cherry\"]\n",
    "x , y , z = fruits\n",
    "print(x)\n",
    "print(y)\n",
    "print(z)          "
   ]
  },
  {
   "cell_type": "markdown",
   "id": "29adce6a-a115-4c1c-8264-a4097b709813",
   "metadata": {},
   "source": [
    "example 14"
   ]
  },
  {
   "cell_type": "code",
   "execution_count": 28,
   "id": "aca30504-802d-436a-b11f-539a2f8f21e9",
   "metadata": {},
   "outputs": [
    {
     "name": "stdout",
     "output_type": "stream",
     "text": [
      "Python is awesome \n"
     ]
    }
   ],
   "source": [
    "x = 'Python '\n",
    "y = 'is '\n",
    "z = 'awesome '\n",
    "print(x+y+z)\n"
   ]
  },
  {
   "cell_type": "markdown",
   "id": "d482eda0-da07-4dc2-8df8-82580495b009",
   "metadata": {},
   "source": [
    "example 15"
   ]
  },
  {
   "cell_type": "code",
   "execution_count": 30,
   "id": "1cf3ef13-e690-4cfc-b949-41aa2f333a7b",
   "metadata": {},
   "outputs": [
    {
     "name": "stdout",
     "output_type": "stream",
     "text": [
      "5 John\n"
     ]
    }
   ],
   "source": [
    "x = 5\n",
    "y = 'John'\n",
    "print(x,y)\n"
   ]
  },
  {
   "cell_type": "markdown",
   "id": "3728fbb1-bbbe-49cf-ad0b-0fda60eb55ae",
   "metadata": {},
   "source": [
    "example 16"
   ]
  },
  {
   "cell_type": "code",
   "execution_count": 32,
   "id": "f6e92ba2-6936-4a67-8842-bab2faefcf1d",
   "metadata": {},
   "outputs": [
    {
     "name": "stdout",
     "output_type": "stream",
     "text": [
      "Python is awesome\n"
     ]
    }
   ],
   "source": [
    "x = \"awesome\"\n",
    "def myfunc():\n",
    "    print(\"Python is \" + x)\n",
    "\n",
    "myfunc()"
   ]
  },
  {
   "cell_type": "markdown",
   "id": "db3df684-0343-48b1-a7ff-bce10e9e33ce",
   "metadata": {},
   "source": [
    "example 17"
   ]
  },
  {
   "cell_type": "code",
   "execution_count": 34,
   "id": "3c6c1ab8-fd9f-460a-a8d7-0d56bd7d3fee",
   "metadata": {
    "scrolled": true
   },
   "outputs": [
    {
     "name": "stdout",
     "output_type": "stream",
     "text": [
      "python is  fantastic\n",
      "python is awesome\n"
     ]
    }
   ],
   "source": [
    "x = \"awesome\"\n",
    "\n",
    "def myfunc():\n",
    "    x= \" fantastic\"\n",
    "    print(\"python is \" + x)\n",
    "\n",
    "myfunc()\n",
    "print(\"python is \" + x)\n"
   ]
  },
  {
   "cell_type": "markdown",
   "id": "9ff518a0-8e7f-4186-a472-3215ea6e0380",
   "metadata": {},
   "source": [
    "example 18"
   ]
  },
  {
   "cell_type": "code",
   "execution_count": 36,
   "id": "47e2bb56-694d-4ab1-b5d6-3ac8e544dd80",
   "metadata": {},
   "outputs": [
    {
     "name": "stdout",
     "output_type": "stream",
     "text": [
      "python is fantastic\n"
     ]
    }
   ],
   "source": [
    "x = \"awesome\"\n",
    "def myfunc():\n",
    "    global x\n",
    "    x = 'fantastic'\n",
    "myfunc()    \n",
    "print(\"python is \" + x)\n"
   ]
  },
  {
   "cell_type": "markdown",
   "id": "ec5fad0c-4d5c-4c43-b6f4-491513072a95",
   "metadata": {},
   "source": [
    "example 19"
   ]
  },
  {
   "cell_type": "code",
   "execution_count": 38,
   "id": "ed1a7518-5973-48fa-980f-fbe7ff608244",
   "metadata": {},
   "outputs": [
    {
     "name": "stdout",
     "output_type": "stream",
     "text": [
      "<class 'int'>\n"
     ]
    }
   ],
   "source": [
    "x = 5\n",
    "print(type(x))"
   ]
  },
  {
   "cell_type": "markdown",
   "id": "e5fa22af-d511-48a7-b896-b3af72d3bcdb",
   "metadata": {},
   "source": [
    "example 20"
   ]
  },
  {
   "cell_type": "code",
   "execution_count": 40,
   "id": "c0795cac-0d41-4cfd-805b-a59e68c50bfd",
   "metadata": {},
   "outputs": [
    {
     "name": "stdout",
     "output_type": "stream",
     "text": [
      "<class 'int'>\n",
      "<class 'float'>\n",
      "<class 'complex'>\n"
     ]
    }
   ],
   "source": [
    "x = 1    # int\n",
    "y = 2.8  # float\n",
    "z = 1j   # complex\n",
    "print(type(x))\n",
    "print(type(y))\n",
    "print(type(z))\n"
   ]
  },
  {
   "cell_type": "markdown",
   "id": "932a81dc-15f8-438a-b8e6-52558a23c827",
   "metadata": {},
   "source": [
    "example 21"
   ]
  },
  {
   "cell_type": "code",
   "execution_count": 42,
   "id": "e7c753a2-a032-4040-922a-36b8cf892c9e",
   "metadata": {},
   "outputs": [
    {
     "name": "stdout",
     "output_type": "stream",
     "text": [
      "1.0\n",
      "5\n",
      "(1+0j)\n",
      "<class 'float'>\n",
      "<class 'int'>\n",
      "<class 'complex'>\n"
     ]
    }
   ],
   "source": [
    "x = 1 #int\n",
    "y = 5.2 #float\n",
    "z = 1j #complex\n",
    "\n",
    "a = float(x)\n",
    "b = int(y)\n",
    "c = complex(x)\n",
    "\n",
    "print(a)\n",
    "print(b)\n",
    "print(c)\n",
    "\n",
    "print(type(a))\n",
    "print(type(b))\n",
    "print(type(c))\n",
    "\n"
   ]
  },
  {
   "cell_type": "markdown",
   "id": "24549e12-4f89-4d62-b4c5-c8088ccf9e2b",
   "metadata": {},
   "source": [
    "example 22"
   ]
  },
  {
   "cell_type": "code",
   "execution_count": 44,
   "id": "7ff47009-c899-4fc2-82af-2e2d0303170b",
   "metadata": {},
   "outputs": [
    {
     "name": "stdout",
     "output_type": "stream",
     "text": [
      "7\n"
     ]
    }
   ],
   "source": [
    "import random\n",
    "print(random.randrange(1,10))"
   ]
  },
  {
   "cell_type": "markdown",
   "id": "0268ad58-3514-4b10-a5e6-3f997b63504c",
   "metadata": {},
   "source": [
    "example 23"
   ]
  },
  {
   "cell_type": "code",
   "execution_count": 46,
   "id": "501a0206-78e8-4313-ab12-e515c83d148b",
   "metadata": {},
   "outputs": [
    {
     "name": "stdout",
     "output_type": "stream",
     "text": [
      "1 2 3\n"
     ]
    }
   ],
   "source": [
    "x = int(1)   # x will be 1\n",
    "y = int(2.8) # y will be 2\n",
    "z = int(\"3\") # z will be 3\n",
    "print(x , y , z)"
   ]
  },
  {
   "cell_type": "markdown",
   "id": "0b23b6dd-bf5b-4db3-8d40-08ee6863a22e",
   "metadata": {},
   "source": [
    "example 24"
   ]
  },
  {
   "cell_type": "code",
   "execution_count": 48,
   "id": "38f60fff-d150-4bfe-942c-d06c1657cb7f",
   "metadata": {},
   "outputs": [
    {
     "name": "stdout",
     "output_type": "stream",
     "text": [
      " hello , my name is Aibyn \n",
      " hello , my name is Aibyn \n"
     ]
    }
   ],
   "source": [
    "a = \"\"\" hello , my name is Aibyn \"\"\"\n",
    "print(a)\n",
    "b = ''' hello , my name is Aibyn '''\n",
    "print(b)\n"
   ]
  },
  {
   "cell_type": "markdown",
   "id": "3e984006-6d53-4bc9-9ec5-869ce7edd061",
   "metadata": {},
   "source": [
    "example 25"
   ]
  },
  {
   "cell_type": "code",
   "execution_count": 50,
   "id": "5f991ed4-9279-46aa-bb7d-05d77eb603a2",
   "metadata": {},
   "outputs": [
    {
     "name": "stdout",
     "output_type": "stream",
     "text": [
      "H\n"
     ]
    }
   ],
   "source": [
    "a = \"Hello , World!\"\n",
    "print(a[0])"
   ]
  },
  {
   "cell_type": "markdown",
   "id": "18772e35-c657-4ffd-ae43-a1dc556eceef",
   "metadata": {},
   "source": [
    "example 26"
   ]
  },
  {
   "cell_type": "code",
   "execution_count": 52,
   "id": "600ef885-e346-4d6d-8d13-820d62f30644",
   "metadata": {},
   "outputs": [
    {
     "name": "stdout",
     "output_type": "stream",
     "text": [
      "b\n",
      "a\n",
      "n\n",
      "a\n",
      "n\n",
      "a\n"
     ]
    }
   ],
   "source": [
    "for x in \"banana\":\n",
    "    print(x)"
   ]
  },
  {
   "cell_type": "markdown",
   "id": "46a1fe0a-7698-444b-bbd9-01e6f7269e30",
   "metadata": {},
   "source": [
    "example 27"
   ]
  },
  {
   "cell_type": "code",
   "execution_count": 54,
   "id": "a253d094-76c5-401f-b59a-199e67351709",
   "metadata": {},
   "outputs": [
    {
     "name": "stdout",
     "output_type": "stream",
     "text": [
      "12\n"
     ]
    }
   ],
   "source": [
    "a = \"hello world!\"\n",
    "print(len(a))"
   ]
  },
  {
   "cell_type": "markdown",
   "id": "aeb02b98-48e8-40c6-9a56-ae4c9b5db85d",
   "metadata": {},
   "source": [
    "example 28"
   ]
  },
  {
   "cell_type": "code",
   "execution_count": 56,
   "id": "fae60318-8cd7-4692-83b6-98dbb8932b88",
   "metadata": {},
   "outputs": [
    {
     "name": "stdout",
     "output_type": "stream",
     "text": [
      "True\n"
     ]
    }
   ],
   "source": [
    "txt = \"The best things in life are free!\"\n",
    "print(\"free\" in txt)"
   ]
  },
  {
   "cell_type": "markdown",
   "id": "8e97c36c-7faf-4029-a74f-3829acbc3e89",
   "metadata": {},
   "source": [
    "example 29"
   ]
  },
  {
   "cell_type": "code",
   "execution_count": 58,
   "id": "4e68230d-d52d-4779-96cb-ec4b334d7a43",
   "metadata": {},
   "outputs": [
    {
     "name": "stdout",
     "output_type": "stream",
     "text": [
      "yes,'free' is present\n"
     ]
    }
   ],
   "source": [
    "txt = \"The best things in life are free!\"\n",
    "if \"free\" in txt:\n",
    "        print(\"yes,'free' is present\")"
   ]
  },
  {
   "cell_type": "markdown",
   "id": "7aa0b2a1-23eb-471c-939b-a8bcec3b7d1d",
   "metadata": {},
   "source": [
    "example 30"
   ]
  },
  {
   "cell_type": "code",
   "execution_count": 60,
   "id": "761277a3-68d4-489b-86c9-33977f3075f3",
   "metadata": {},
   "outputs": [
    {
     "name": "stdout",
     "output_type": "stream",
     "text": [
      "No, 'expensive' is NOT present.\n"
     ]
    }
   ],
   "source": [
    "txt = \"The best things in life are free!\"\n",
    "if \"expensive\" not in txt:\n",
    "  print(\"No, 'expensive' is NOT present.\")"
   ]
  },
  {
   "cell_type": "markdown",
   "id": "30c7e51a-c03d-489b-81a9-2af0cb60afc9",
   "metadata": {},
   "source": [
    "example 31"
   ]
  },
  {
   "cell_type": "code",
   "execution_count": 62,
   "id": "248a0c28-34be-4405-94cf-26a059910bff",
   "metadata": {},
   "outputs": [
    {
     "name": "stdout",
     "output_type": "stream",
     "text": [
      "llo\n"
     ]
    }
   ],
   "source": [
    "b = \"Hello , World!\"\n",
    "print(b[2:5])"
   ]
  },
  {
   "cell_type": "markdown",
   "id": "0ff98678-d212-4f5d-9365-dee079cc379d",
   "metadata": {},
   "source": [
    "example 32"
   ]
  },
  {
   "cell_type": "code",
   "execution_count": 64,
   "id": "ca1289f8-2f76-488f-82f3-7811e662d895",
   "metadata": {},
   "outputs": [
    {
     "name": "stdout",
     "output_type": "stream",
     "text": [
      "Hello\n"
     ]
    }
   ],
   "source": [
    "b = \"Hello World!\"\n",
    "print(b[:5])"
   ]
  },
  {
   "cell_type": "markdown",
   "id": "eb22fb93-4728-412a-bc35-3d5a35644dcd",
   "metadata": {},
   "source": [
    "example 33"
   ]
  },
  {
   "cell_type": "code",
   "execution_count": 66,
   "id": "ed2095d7-e015-47d3-b1f5-446949d5c6da",
   "metadata": {},
   "outputs": [
    {
     "name": "stdout",
     "output_type": "stream",
     "text": [
      "llo World!\n"
     ]
    }
   ],
   "source": [
    "b = \"Hello World!\"\n",
    "print(b[2:])"
   ]
  },
  {
   "cell_type": "markdown",
   "id": "e2f150dc-5a32-4cbd-ae2b-5b9090cbf3a9",
   "metadata": {},
   "source": [
    "example 34"
   ]
  },
  {
   "cell_type": "code",
   "execution_count": 68,
   "id": "27de3417-67f1-47a8-b5a3-8d98e721d396",
   "metadata": {},
   "outputs": [
    {
     "name": "stdout",
     "output_type": "stream",
     "text": [
      "orl\n"
     ]
    }
   ],
   "source": [
    "b = \"Hello, World!\"\n",
    "print(b[-5:-2])"
   ]
  },
  {
   "cell_type": "markdown",
   "id": "bff2e644-ceff-43d0-9405-0e323d42f86d",
   "metadata": {},
   "source": [
    "example 35"
   ]
  },
  {
   "cell_type": "code",
   "execution_count": 70,
   "id": "e0da7413-d28f-47ab-a4ec-bb763a1f8f37",
   "metadata": {},
   "outputs": [
    {
     "name": "stdout",
     "output_type": "stream",
     "text": [
      "HELLO, WORLD!\n"
     ]
    }
   ],
   "source": [
    "a = \"Hello, World!\"\n",
    "print(a.upper())\n"
   ]
  },
  {
   "cell_type": "code",
   "execution_count": 71,
   "id": "f161c41a-e78b-4db2-9d19-33daf5f55000",
   "metadata": {},
   "outputs": [
    {
     "name": "stdout",
     "output_type": "stream",
     "text": [
      "hello,world!\n"
     ]
    }
   ],
   "source": [
    "a = \"Hello,World!\"\n",
    "print(a.lower())"
   ]
  },
  {
   "cell_type": "markdown",
   "id": "fd75411d-9e29-4816-963f-656b3a25e269",
   "metadata": {},
   "source": [
    "example 36"
   ]
  },
  {
   "cell_type": "code",
   "execution_count": 73,
   "id": "abf25164-2f76-4160-a78a-6ce43202d94c",
   "metadata": {},
   "outputs": [
    {
     "name": "stdout",
     "output_type": "stream",
     "text": [
      "Hello, World!\n"
     ]
    }
   ],
   "source": [
    "a = \"Hello, World!\"\n",
    "print(a.strip())\n"
   ]
  },
  {
   "cell_type": "code",
   "execution_count": 74,
   "id": "4a69fbca-a4a1-4393-af05-80fbea382f42",
   "metadata": {},
   "outputs": [
    {
     "name": "stdout",
     "output_type": "stream",
     "text": [
      " Jello, World!\n"
     ]
    }
   ],
   "source": [
    "a = \" Hello, World!\"\n",
    "print(a.replace(\"H\",\"J\"))\n"
   ]
  },
  {
   "cell_type": "markdown",
   "id": "213a3c97-07d9-4a4c-a9c9-025aede78292",
   "metadata": {},
   "source": [
    "example 37"
   ]
  },
  {
   "cell_type": "code",
   "execution_count": 76,
   "id": "e3517f2c-8fff-4282-bb39-c2177b5faa92",
   "metadata": {},
   "outputs": [
    {
     "name": "stdout",
     "output_type": "stream",
     "text": [
      "['Hello', ' World!']\n"
     ]
    }
   ],
   "source": [
    "a = \"Hello, World!\"\n",
    "print(a.split(\",\"))"
   ]
  },
  {
   "cell_type": "markdown",
   "id": "0479fa13-4a1e-4f37-beca-866831507e4f",
   "metadata": {},
   "source": [
    "example 38"
   ]
  },
  {
   "cell_type": "code",
   "execution_count": 78,
   "id": "25da41bd-1f14-46b6-a33b-4f893bd3b068",
   "metadata": {},
   "outputs": [
    {
     "name": "stdout",
     "output_type": "stream",
     "text": [
      "The price is 59 dollars\n"
     ]
    }
   ],
   "source": [
    "price = 59\n",
    "txt = f\"The price is {price} dollars\"\n",
    "print(txt)"
   ]
  },
  {
   "cell_type": "code",
   "execution_count": 79,
   "id": "8e6e7afe-ff04-483e-87ca-31817b86afc0",
   "metadata": {},
   "outputs": [
    {
     "name": "stdout",
     "output_type": "stream",
     "text": [
      "The price is 59.00 dollars\n"
     ]
    }
   ],
   "source": [
    "price = 59\n",
    "txt = f\"The price is {price:.2f} dollars\"\n",
    "print(txt)"
   ]
  },
  {
   "cell_type": "markdown",
   "id": "d0a2dff1-6141-49a6-a9d8-8fb1e68282db",
   "metadata": {},
   "source": [
    "example 39"
   ]
  },
  {
   "cell_type": "code",
   "execution_count": 81,
   "id": "cf8ef0b1-0ff5-47a6-acf1-a95fd5ab9bb5",
   "metadata": {},
   "outputs": [
    {
     "name": "stdout",
     "output_type": "stream",
     "text": [
      "We are the so-called \"Vikings\" from the north.\n"
     ]
    }
   ],
   "source": [
    "txt = \"We are the so-called \\\"Vikings\\\" from the north.\"\n",
    "print(txt)"
   ]
  }
 ],
 "metadata": {
  "kernelspec": {
   "display_name": "Python [conda env:base] *",
   "language": "python",
   "name": "conda-base-py"
  },
  "language_info": {
   "codemirror_mode": {
    "name": "ipython",
    "version": 3
   },
   "file_extension": ".py",
   "mimetype": "text/x-python",
   "name": "python",
   "nbconvert_exporter": "python",
   "pygments_lexer": "ipython3",
   "version": "3.12.7"
  }
 },
 "nbformat": 4,
 "nbformat_minor": 5
}
