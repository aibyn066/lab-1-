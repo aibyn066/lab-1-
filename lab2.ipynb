{
 "cells": [
  {
   "cell_type": "markdown",
   "id": "712ca9aa-f9a0-4006-b066-f2bb6acd3694",
   "metadata": {},
   "source": [
    "example 1"
   ]
  },
  {
   "cell_type": "code",
   "execution_count": 39,
   "id": "a43a7d16-ddb2-4775-acce-8c2c8694d36b",
   "metadata": {},
   "outputs": [
    {
     "name": "stdout",
     "output_type": "stream",
     "text": [
      "True\n",
      "False\n",
      "False\n"
     ]
    }
   ],
   "source": [
    "print(10>9)\n",
    "print(10==9)\n",
    "print(10<9)"
   ]
  },
  {
   "cell_type": "markdown",
   "id": "7aefec4a-26fb-48d9-bd29-dafb12911d4f",
   "metadata": {},
   "source": [
    "example 2"
   ]
  },
  {
   "cell_type": "code",
   "execution_count": null,
   "id": "52bd76ab-a00d-4554-9c65-3184979e4ad0",
   "metadata": {},
   "outputs": [],
   "source": [
    "a=200\n",
    "b=33\n",
    "if b>a :\n",
    "    print(\"b is greater than a\")\n",
    "else:\n",
    "    print(\"b is not greater than a\")\n",
    "    "
   ]
  },
  {
   "cell_type": "markdown",
   "id": "5e7e4e89-e03b-48b8-a470-e0b6834b831b",
   "metadata": {},
   "source": [
    "example 3"
   ]
  },
  {
   "cell_type": "code",
   "execution_count": 41,
   "id": "c18f0e0e-32fe-4fbe-961e-179682a0404f",
   "metadata": {},
   "outputs": [
    {
     "name": "stdout",
     "output_type": "stream",
     "text": [
      "True\n",
      "True\n"
     ]
    }
   ],
   "source": [
    "print(bool(\"Hello\"))\n",
    "print(bool(15))"
   ]
  },
  {
   "cell_type": "markdown",
   "id": "cca357b8-5140-41c3-acac-d297a897b16e",
   "metadata": {},
   "source": [
    "example 4"
   ]
  },
  {
   "cell_type": "code",
   "execution_count": 48,
   "id": "b88623f4-81b6-41db-83e1-4216915f848b",
   "metadata": {},
   "outputs": [
    {
     "name": "stdout",
     "output_type": "stream",
     "text": [
      "True\n",
      "True\n"
     ]
    }
   ],
   "source": [
    "x = \"Hello\"\n",
    "y = 15\n",
    "print(bool(x))\n",
    "print(bool(y))"
   ]
  },
  {
   "cell_type": "markdown",
   "id": "cae5c3e1-d825-4b68-a124-ca773d45db96",
   "metadata": {},
   "source": [
    "example 5"
   ]
  },
  {
   "cell_type": "code",
   "execution_count": 50,
   "id": "392f4a94-2edb-40cb-94db-f27f391fe5b6",
   "metadata": {},
   "outputs": [
    {
     "data": {
      "text/plain": [
       "True"
      ]
     },
     "execution_count": 50,
     "metadata": {},
     "output_type": "execute_result"
    }
   ],
   "source": [
    "bool(\"abc\")\n",
    "bool(123)\n",
    "bool([\"apple\" , \"cherry\" , \"banana\"])"
   ]
  },
  {
   "cell_type": "markdown",
   "id": "ebc705b9-b12d-451a-b425-46d84777a2d1",
   "metadata": {},
   "source": [
    "example 6"
   ]
  },
  {
   "cell_type": "code",
   "execution_count": 58,
   "id": "a4442c84-1c4d-48f4-be30-8ca94524fd70",
   "metadata": {},
   "outputs": [
    {
     "data": {
      "text/plain": [
       "False"
      ]
     },
     "execution_count": 58,
     "metadata": {},
     "output_type": "execute_result"
    }
   ],
   "source": [
    "bool(False)\n",
    "bool(None)\n",
    "bool(0)\n",
    "bool(\"\")\n",
    "bool(())\n",
    "bool([])\n",
    "bool({})"
   ]
  },
  {
   "cell_type": "markdown",
   "id": "cd25e312-83e3-4572-9812-4dcd78c325a5",
   "metadata": {},
   "source": [
    "example 7"
   ]
  },
  {
   "cell_type": "code",
   "execution_count": 78,
   "id": "e7ec34e5-3685-4082-9813-508440240e97",
   "metadata": {},
   "outputs": [
    {
     "name": "stdout",
     "output_type": "stream",
     "text": [
      "False\n"
     ]
    }
   ],
   "source": [
    "class myself():\n",
    "    def _len_(self):\n",
    "        return 0\n",
    "\n",
    "myobj = myclass()\n",
    "print(bool(myobj))"
   ]
  },
  {
   "cell_type": "markdown",
   "id": "2fefad4a-489f-4725-9f3f-9b7dbf5bc93d",
   "metadata": {},
   "source": [
    "example 8"
   ]
  },
  {
   "cell_type": "code",
   "execution_count": 80,
   "id": "c88d1bba-9d7b-4f87-b999-33fbc07453f7",
   "metadata": {},
   "outputs": [
    {
     "name": "stdout",
     "output_type": "stream",
     "text": [
      "YES!\n"
     ]
    }
   ],
   "source": [
    "def myFunction() :\n",
    "    return True\n",
    "\n",
    "if myFunction():\n",
    "    print(\"YES!\")\n",
    "\n",
    "else:\n",
    "    print(\"NO!\")"
   ]
  },
  {
   "cell_type": "markdown",
   "id": "20343fb4-fcd0-4b98-bd58-a1c7143288a3",
   "metadata": {},
   "source": [
    "example 9"
   ]
  },
  {
   "cell_type": "code",
   "execution_count": 86,
   "id": "93562ee3-dbb8-40de-bbf4-644ee836621a",
   "metadata": {},
   "outputs": [
    {
     "name": "stdout",
     "output_type": "stream",
     "text": [
      "True\n"
     ]
    }
   ],
   "source": [
    "x = 123\n",
    "print(isinstance(x,int))"
   ]
  },
  {
   "cell_type": "markdown",
   "id": "75ebebc5-b8a3-428d-8612-0a492c5f05cd",
   "metadata": {},
   "source": [
    "example 10"
   ]
  },
  {
   "cell_type": "code",
   "execution_count": 94,
   "id": "7d8ed1f4-49a8-45e2-b0a7-111e673f3269",
   "metadata": {
    "scrolled": true
   },
   "outputs": [
    {
     "name": "stdout",
     "output_type": "stream",
     "text": [
      "15\n",
      "100000\n",
      "0\n",
      "2\n",
      "2.0\n",
      "50\n"
     ]
    }
   ],
   "source": [
    "print(10+5)\n",
    "print(10**5)\n",
    "print(10%5)\n",
    "print(10//5)\n",
    "print(10/5)\n",
    "print(10*5)\n"
   ]
  },
  {
   "cell_type": "markdown",
   "id": "837c993a-fd4b-4085-a795-2b21075bc4f2",
   "metadata": {},
   "source": [
    "example 11"
   ]
  },
  {
   "cell_type": "code",
   "execution_count": 96,
   "id": "137a6e73-5ff7-474b-bb9c-72ce26808c6a",
   "metadata": {},
   "outputs": [
    {
     "name": "stdout",
     "output_type": "stream",
     "text": [
      "YES!\n"
     ]
    }
   ],
   "source": [
    "x = 5 \n",
    "y = 10\n",
    "if(x>4 and y>9):\n",
    "    print(\"YES!\")"
   ]
  },
  {
   "cell_type": "markdown",
   "id": "16202a1c-3a8b-4a49-b848-de8a151d8368",
   "metadata": {},
   "source": [
    "example 12"
   ]
  },
  {
   "cell_type": "code",
   "execution_count": 100,
   "id": "0e54f41a-5c91-4f38-8a10-db9b4dcde2db",
   "metadata": {},
   "outputs": [
    {
     "name": "stdout",
     "output_type": "stream",
     "text": [
      "True\n",
      "False\n",
      "True\n"
     ]
    }
   ],
   "source": [
    "x = [\"apple\",\"banana\"]\n",
    "y = [\"apple\",\"banana\"]\n",
    "z = x\n",
    "\n",
    "print(x is z)\n",
    "print(x is y)\n",
    "print(x == y )"
   ]
  },
  {
   "cell_type": "markdown",
   "id": "c1b398fd-27a2-4efb-8ae9-5c9573a98ef7",
   "metadata": {},
   "source": [
    "example 13"
   ]
  },
  {
   "cell_type": "code",
   "execution_count": 104,
   "id": "261e4057-8e5d-4d01-ab93-1c6c6a2ea340",
   "metadata": {},
   "outputs": [
    {
     "name": "stdout",
     "output_type": "stream",
     "text": [
      "False\n"
     ]
    }
   ],
   "source": [
    "x = [\"apple\",\"banana\"]\n",
    "print(\"banana\" not in x)"
   ]
  },
  {
   "cell_type": "markdown",
   "id": "1c2a014a-a9de-46ca-ade8-bbfa3643a444",
   "metadata": {},
   "source": [
    "example 14"
   ]
  },
  {
   "cell_type": "code",
   "execution_count": 106,
   "id": "5c3dbd1d-2cdd-460f-8abc-565e6297d1ac",
   "metadata": {},
   "outputs": [
    {
     "name": "stdout",
     "output_type": "stream",
     "text": [
      "-6\n"
     ]
    }
   ],
   "source": [
    "x = 5\n",
    "print(~x)"
   ]
  },
  {
   "cell_type": "code",
   "execution_count": null,
   "id": "63739364-4384-479a-9245-73769dbfcea8",
   "metadata": {},
   "outputs": [],
   "source": [
    "example 15"
   ]
  },
  {
   "cell_type": "code",
   "execution_count": 108,
   "id": "fa99b742-87c4-4d5c-aa40-b83acd4b9f12",
   "metadata": {},
   "outputs": [
    {
     "name": "stdout",
     "output_type": "stream",
     "text": [
      "2\n"
     ]
    }
   ],
   "source": [
    "print(8 >> 4 - 2)"
   ]
  },
  {
   "cell_type": "markdown",
   "id": "3195d0e1-6aa0-4680-9c94-f49b4ae0611d",
   "metadata": {},
   "source": [
    "example 16"
   ]
  },
  {
   "cell_type": "code",
   "execution_count": 118,
   "id": "736ba394-2db8-43e0-bc5c-ba3892b18dc9",
   "metadata": {},
   "outputs": [
    {
     "name": "stdout",
     "output_type": "stream",
     "text": [
      "['banana', 'apple', 'cherry', 'cherry', 'apple']\n",
      "5\n"
     ]
    }
   ],
   "source": [
    "thislist = [\"banana\" , 'apple','cherry','cherry','apple']\n",
    "print(thislist)\n",
    "print(len(thislist))\n",
    "list_two = [ 1 , 2 , 4 , 6]\n",
    "list_three = [True,False,True]\n",
    "list_four = [123,'banana',True]"
   ]
  },
  {
   "cell_type": "markdown",
   "id": "5f3ca9ce-db76-401b-ac75-3276681d3d38",
   "metadata": {},
   "source": [
    "example 17"
   ]
  },
  {
   "cell_type": "code",
   "execution_count": 120,
   "id": "0b7ddcd4-302e-4587-b547-737596d07731",
   "metadata": {},
   "outputs": [
    {
     "name": "stdout",
     "output_type": "stream",
     "text": [
      "<class 'list'>\n"
     ]
    }
   ],
   "source": [
    "mylist = [ 'apple','banana','cherry']\n",
    "print(type(mylist))"
   ]
  },
  {
   "cell_type": "markdown",
   "id": "c1fe7e2b-f7a2-4cc8-80ee-a0081ccc6979",
   "metadata": {},
   "source": [
    "example 18"
   ]
  },
  {
   "cell_type": "code",
   "execution_count": 123,
   "id": "553ea3f7-faa0-4ff0-b6fa-7ca5236d39f6",
   "metadata": {},
   "outputs": [
    {
     "name": "stdout",
     "output_type": "stream",
     "text": [
      "['apple', 'banana', 'cherry']\n"
     ]
    }
   ],
   "source": [
    "thislist = list((\"apple\", \"banana\", \"cherry\")) # note the double round-brackets\n",
    "print(thislist)\n"
   ]
  },
  {
   "cell_type": "code",
   "execution_count": null,
   "id": "64bccaf6-2064-4b51-ae62-f544b91a9437",
   "metadata": {},
   "outputs": [],
   "source": [
    "example 19"
   ]
  },
  {
   "cell_type": "code",
   "execution_count": 126,
   "id": "690715cb-e167-4cf3-a466-e9629da62860",
   "metadata": {},
   "outputs": [
    {
     "name": "stdout",
     "output_type": "stream",
     "text": [
      "banana\n",
      "cherry\n"
     ]
    }
   ],
   "source": [
    "thislist = [\"apple\", \"banana\", \"cherry\"]\n",
    "print(thislist[1])\n",
    "print(thislist[-1])"
   ]
  },
  {
   "cell_type": "markdown",
   "id": "7aa96a02-b145-4dc2-8fa7-a1866147f3be",
   "metadata": {},
   "source": [
    "example 20"
   ]
  },
  {
   "cell_type": "code",
   "execution_count": 136,
   "id": "27b80462-4211-4c18-9b89-8f83edb8c987",
   "metadata": {},
   "outputs": [
    {
     "name": "stdout",
     "output_type": "stream",
     "text": [
      "['cherry', 'orange', 'kiwi']\n",
      "['apple', 'banana', 'cherry', 'orange']\n",
      "['cherry', 'orange', 'kiwi', 'melon', 'mango']\n",
      "['orange', 'kiwi', 'melon']\n"
     ]
    }
   ],
   "source": [
    "thislist = [\"apple\", \"banana\", \"cherry\", \"orange\", \"kiwi\", \"melon\", \"mango\"]\n",
    "print(thislist[2:5])\n",
    "print(thislist[:4])\n",
    "print(thislist[2:])\n",
    "print(thislist[-4:-1])"
   ]
  },
  {
   "cell_type": "markdown",
   "id": "2d23230a-547a-4d4b-bb1a-14531256d939",
   "metadata": {},
   "source": [
    "example 21"
   ]
  },
  {
   "cell_type": "code",
   "execution_count": 140,
   "id": "a885e278-9302-4876-b91e-6a6f6dfe824a",
   "metadata": {},
   "outputs": [
    {
     "name": "stdout",
     "output_type": "stream",
     "text": [
      "Yes, apple in the fruit list\n"
     ]
    }
   ],
   "source": [
    "thislist = ['apple','orange','cherry']\n",
    "if 'apple' in thislist:\n",
    "    print(\"Yes, apple in the fruit list\")\n",
    "    "
   ]
  },
  {
   "cell_type": "markdown",
   "id": "f8b44b7a-7104-4663-ac80-8c56992ab600",
   "metadata": {},
   "source": [
    "example 22"
   ]
  },
  {
   "cell_type": "code",
   "execution_count": 142,
   "id": "17705f07-4ef1-46de-a894-6939692b9113",
   "metadata": {},
   "outputs": [
    {
     "name": "stdout",
     "output_type": "stream",
     "text": [
      "['orange', 'cherry', 'banana']\n"
     ]
    }
   ],
   "source": [
    "thislist = [ 'apple' , 'cherry' , 'banana' ]\n",
    "thislist[0] = 'orange'\n",
    "print(thislist)"
   ]
  },
  {
   "cell_type": "markdown",
   "id": "8f54f72d-2707-4e8c-aed1-c2bb4e258b34",
   "metadata": {},
   "source": [
    "example 23"
   ]
  },
  {
   "cell_type": "code",
   "execution_count": 146,
   "id": "dce76fdc-099e-4d17-b68c-5f5f221f6e3a",
   "metadata": {},
   "outputs": [
    {
     "name": "stdout",
     "output_type": "stream",
     "text": [
      "['apple', 'blackcurrant', 'watermelon', 'cherry']\n",
      "['apple', 'orange', 'cherry']\n"
     ]
    }
   ],
   "source": [
    "thislist = [\"apple\", \"banana\", \"cherry\"]\n",
    "thislist[1:2] = [\"blackcurrant\", \"watermelon\"]\n",
    "print(thislist)\n",
    "thislist[1:3] = [\"orange\"]\n",
    "print(thislist)"
   ]
  },
  {
   "cell_type": "markdown",
   "id": "8131430e-903a-45fc-a890-90745f025657",
   "metadata": {},
   "source": [
    "example 24"
   ]
  },
  {
   "cell_type": "code",
   "execution_count": 148,
   "id": "0d5cc962-a081-4be0-b445-1fc8eeb5dcef",
   "metadata": {},
   "outputs": [
    {
     "name": "stdout",
     "output_type": "stream",
     "text": [
      "['apple', 'banana', 'watermelon', 'cherry']\n"
     ]
    }
   ],
   "source": [
    "thislist = [\"apple\" , \"banana\",\"cherry\"]\n",
    "thislist.insert(2,\"watermelon\")\n",
    "print(thislist)"
   ]
  },
  {
   "cell_type": "markdown",
   "id": "94d92e0a-252f-4b7e-b72b-13703c4e1546",
   "metadata": {},
   "source": [
    "example 25"
   ]
  },
  {
   "cell_type": "code",
   "execution_count": 150,
   "id": "b0ed5d77-a5c1-4072-84b5-268959272b29",
   "metadata": {},
   "outputs": [
    {
     "name": "stdout",
     "output_type": "stream",
     "text": [
      "['apple', 'banana', 'cherry', 'orange']\n"
     ]
    }
   ],
   "source": [
    "thislist = [ 'apple' ,'banana','cherry']\n",
    "thislist.append('orange')\n",
    "print(thislist)"
   ]
  },
  {
   "cell_type": "markdown",
   "id": "13557d70-bed3-4a7d-9620-f1c033898819",
   "metadata": {},
   "source": [
    "example 26"
   ]
  },
  {
   "cell_type": "code",
   "execution_count": 152,
   "id": "648c98ea-c15c-4b79-9180-51fcb978c1c3",
   "metadata": {},
   "outputs": [
    {
     "name": "stdout",
     "output_type": "stream",
     "text": [
      "['apple', 'banana', 'cherry', 'mango', 'papaya']\n"
     ]
    }
   ],
   "source": [
    "thislist = [ 'apple' , 'banana', 'cherry']\n",
    "trop = ['mango','papaya']\n",
    "thislist.extend(trop)\n",
    "print(thislist)"
   ]
  },
  {
   "cell_type": "markdown",
   "id": "b05eabe5-f4b3-4a95-a174-f419ec27fc76",
   "metadata": {},
   "source": [
    "example 27"
   ]
  },
  {
   "cell_type": "code",
   "execution_count": 154,
   "id": "8f988684-7b3e-4ddf-8423-0eb5a1a060c8",
   "metadata": {},
   "outputs": [
    {
     "name": "stdout",
     "output_type": "stream",
     "text": [
      "['apple', 'banana', 'cherry', 'kiwi', 'orange']\n"
     ]
    }
   ],
   "source": [
    "thislist = [\"apple\", \"banana\", \"cherry\"]\n",
    "thistuple = (\"kiwi\", \"orange\")\n",
    "thislist.extend(thistuple)\n",
    "print(thislist)"
   ]
  },
  {
   "cell_type": "markdown",
   "id": "4c42a2fb-e90c-4fb4-af16-193ee79aaae4",
   "metadata": {},
   "source": [
    "example 28"
   ]
  },
  {
   "cell_type": "code",
   "execution_count": 158,
   "id": "b0388d75-a187-4b2d-94a4-7df2cf9bf8a5",
   "metadata": {},
   "outputs": [
    {
     "name": "stdout",
     "output_type": "stream",
     "text": [
      "['apple', 'cherry', 'banana']\n"
     ]
    }
   ],
   "source": [
    "thislist = ['apple','banana','cherry','banana']\n",
    "thislist.remove('banana')\n",
    "print(thislist)"
   ]
  },
  {
   "cell_type": "markdown",
   "id": "29ee7f89-e468-4a01-8dcc-78a811cdc245",
   "metadata": {},
   "source": [
    "example 29"
   ]
  },
  {
   "cell_type": "code",
   "execution_count": 162,
   "id": "4c7d05e7-25b2-45b0-b918-daac6607b593",
   "metadata": {},
   "outputs": [
    {
     "name": "stdout",
     "output_type": "stream",
     "text": [
      "['apple', 'cherry']\n"
     ]
    }
   ],
   "source": [
    "thislist = ['apple','banana','cherry']\n",
    "thislist.pop(1)\n",
    "print(thislist)"
   ]
  },
  {
   "cell_type": "code",
   "execution_count": 164,
   "id": "0ebfe5d5-326f-4d32-8737-ca6ba011c202",
   "metadata": {},
   "outputs": [
    {
     "name": "stdout",
     "output_type": "stream",
     "text": [
      "['apple', 'banana']\n"
     ]
    }
   ],
   "source": [
    "thislist = ['apple','banana','cherry']\n",
    "thislist.pop()\n",
    "print(thislist)"
   ]
  },
  {
   "cell_type": "markdown",
   "id": "1c90ddfb-1911-49c9-bfe6-746e0d9ea108",
   "metadata": {},
   "source": [
    "example 30"
   ]
  },
  {
   "cell_type": "code",
   "execution_count": 170,
   "id": "dde66d06-a2b3-4473-8654-b67e906b1b3d",
   "metadata": {},
   "outputs": [],
   "source": [
    "thislist = [\"apple\", \"banana\", \"cherry\"]\n",
    "del thislist #del all list"
   ]
  },
  {
   "cell_type": "code",
   "execution_count": 172,
   "id": "498a62df-8bfc-423a-87bf-a17f28e54db2",
   "metadata": {},
   "outputs": [
    {
     "name": "stdout",
     "output_type": "stream",
     "text": [
      "[]\n"
     ]
    }
   ],
   "source": [
    "thislist = [\"apple\", \"banana\", \"cherry\"]\n",
    "thislist.clear()\n",
    "print(thislist)"
   ]
  },
  {
   "cell_type": "markdown",
   "id": "dabf910e-ad3e-41f8-9b54-034ca0775db7",
   "metadata": {},
   "source": [
    "example 31"
   ]
  },
  {
   "cell_type": "code",
   "execution_count": 174,
   "id": "4a962642-8867-46bc-844f-011da828bdba",
   "metadata": {},
   "outputs": [
    {
     "name": "stdout",
     "output_type": "stream",
     "text": [
      "apple\n",
      "banana\n",
      "cherry\n"
     ]
    }
   ],
   "source": [
    "thislist = [\"apple\", \"banana\", \"cherry\"]\n",
    "for x in thislist:\n",
    "  print(x)"
   ]
  },
  {
   "cell_type": "markdown",
   "id": "22238c67-2fb8-4308-b711-a1e5c0662198",
   "metadata": {},
   "source": [
    "example 32"
   ]
  },
  {
   "cell_type": "code",
   "execution_count": 176,
   "id": "31c3ff84-4516-4bc8-9ef2-719a96fdbe14",
   "metadata": {},
   "outputs": [
    {
     "name": "stdout",
     "output_type": "stream",
     "text": [
      "apple\n",
      "banana\n",
      "cherry\n"
     ]
    }
   ],
   "source": [
    "thislist = [\"apple\", \"banana\", \"cherry\"]\n",
    "for i in range(len(thislist)):\n",
    "  print(thislist[i])"
   ]
  },
  {
   "cell_type": "code",
   "execution_count": 178,
   "id": "6e0b7d42-741e-45ba-846e-91a237a94850",
   "metadata": {},
   "outputs": [
    {
     "name": "stdout",
     "output_type": "stream",
     "text": [
      "apple\n",
      "banana\n",
      "cherry\n"
     ]
    }
   ],
   "source": [
    "thislist = [\"apple\", \"banana\", \"cherry\"]\n",
    "i = 0\n",
    "while i < len(thislist):\n",
    "  print(thislist[i])\n",
    "  i = i + 1"
   ]
  },
  {
   "cell_type": "code",
   "execution_count": 180,
   "id": "1c77599e-aa87-4bb0-af7f-a5a4c2b62d9c",
   "metadata": {},
   "outputs": [
    {
     "name": "stdout",
     "output_type": "stream",
     "text": [
      "apple\n",
      "banana\n",
      "cherry\n"
     ]
    },
    {
     "data": {
      "text/plain": [
       "[None, None, None]"
      ]
     },
     "execution_count": 180,
     "metadata": {},
     "output_type": "execute_result"
    }
   ],
   "source": [
    "thislist = [\"apple\", \"banana\", \"cherry\"]\n",
    "[print(x) for x in thislist]"
   ]
  },
  {
   "cell_type": "markdown",
   "id": "be4e64d0-6d75-4e56-8d2a-2454d3a47615",
   "metadata": {},
   "source": [
    "example 33"
   ]
  },
  {
   "cell_type": "code",
   "execution_count": 186,
   "id": "45b43002-82f5-4e9b-b2f2-ab249f27fc78",
   "metadata": {},
   "outputs": [
    {
     "name": "stdout",
     "output_type": "stream",
     "text": [
      "['apple', 'banana', 'cherry', 'kiwi', 'mango']\n"
     ]
    }
   ],
   "source": [
    "fruits = [\"apple\", \"banana\", \"cherry\", \"kiwi\", \"mango\"]\n",
    "newlist = []\n",
    "\n",
    "for x in fruits:\n",
    "    newlist.append(x)\n",
    "\n",
    "print(newlist)\n"
   ]
  },
  {
   "cell_type": "markdown",
   "id": "a49ec5a3-90a9-4075-b8a4-fda0b316137d",
   "metadata": {},
   "source": [
    "example 34"
   ]
  },
  {
   "cell_type": "code",
   "execution_count": 192,
   "id": "fe070cb6-4a66-4ca3-b962-16763b5e3c2e",
   "metadata": {},
   "outputs": [
    {
     "name": "stdout",
     "output_type": "stream",
     "text": [
      "['apple', 'banana', 'cherry', 'kiwi', 'mango']\n"
     ]
    }
   ],
   "source": [
    "fruits = [\"apple\", \"banana\", \"cherry\", \"kiwi\", \"mango\"]\n",
    "newlist = [x for x in fruits ]\n",
    "print(newlist)\n"
   ]
  },
  {
   "cell_type": "code",
   "execution_count": 194,
   "id": "3796dbcf-df20-4aab-a697-60e126b2f1e9",
   "metadata": {},
   "outputs": [
    {
     "name": "stdout",
     "output_type": "stream",
     "text": [
      "[0, 1, 2, 3, 4, 5, 6, 7, 8, 9]\n"
     ]
    }
   ],
   "source": [
    "newlist = [x for x in range(10)]\n",
    "print(newlist)"
   ]
  },
  {
   "cell_type": "code",
   "execution_count": 198,
   "id": "9a0e7e0a-e048-4867-b19c-eebab766d6aa",
   "metadata": {},
   "outputs": [
    {
     "name": "stdout",
     "output_type": "stream",
     "text": [
      "[0, 1, 2, 3, 4]\n"
     ]
    }
   ],
   "source": [
    "newlist = [x for x in range(10) if x < 5]\n",
    "print(newlist)"
   ]
  },
  {
   "cell_type": "code",
   "execution_count": 200,
   "id": "854e34dc-db3c-4063-876f-85f3caf8b71f",
   "metadata": {},
   "outputs": [
    {
     "name": "stdout",
     "output_type": "stream",
     "text": [
      "['APPLE', 'CHERRY', 'BANANA']\n"
     ]
    }
   ],
   "source": [
    "fruits = ['apple','cherry','banana']\n",
    "newlist = [x.upper() for x in fruits]\n",
    "print(newlist)"
   ]
  },
  {
   "cell_type": "markdown",
   "id": "3e61442b-6677-4069-8f5e-173eb6f0ab3c",
   "metadata": {},
   "source": [
    "example 35"
   ]
  },
  {
   "cell_type": "code",
   "execution_count": 1,
   "id": "6e30c931-55ff-4d31-b432-f7c632c33019",
   "metadata": {},
   "outputs": [
    {
     "name": "stdout",
     "output_type": "stream",
     "text": [
      "['banana', 'kiwi', 'mango', 'orange', 'pineapple']\n"
     ]
    }
   ],
   "source": [
    "thislist = [\"orange\", \"mango\", \"kiwi\", \"pineapple\", \"banana\"]\n",
    "thislist.sort()\n",
    "print(thislist)"
   ]
  },
  {
   "cell_type": "code",
   "execution_count": 3,
   "id": "eda79314-3784-4e18-804b-897513c99f0a",
   "metadata": {},
   "outputs": [
    {
     "name": "stdout",
     "output_type": "stream",
     "text": [
      "[23, 50, 65, 82, 100]\n"
     ]
    }
   ],
   "source": [
    "thislist = [100, 50, 65, 82, 23]\n",
    "thislist.sort()\n",
    "print(thislist)"
   ]
  },
  {
   "cell_type": "code",
   "execution_count": 5,
   "id": "565e20e6-57db-41bb-9099-83893ee1209f",
   "metadata": {},
   "outputs": [
    {
     "name": "stdout",
     "output_type": "stream",
     "text": [
      "['pineapple', 'orange', 'mango', 'kiwi', 'banana']\n"
     ]
    }
   ],
   "source": [
    "thislist = [\"orange\", \"mango\", \"kiwi\", \"pineapple\", \"banana\"]\n",
    "thislist.sort(reverse = True)\n",
    "print(thislist)"
   ]
  },
  {
   "cell_type": "markdown",
   "id": "5589ffe4-3652-40cd-ae39-86b084fc5dd1",
   "metadata": {},
   "source": [
    "example 36"
   ]
  },
  {
   "cell_type": "markdown",
   "id": "0d4851d0-4866-4cb7-9127-ab3732e46b9d",
   "metadata": {},
   "source": [
    "example 36"
   ]
  },
  {
   "cell_type": "code",
   "execution_count": 7,
   "id": "14059cc5-a703-4ffd-b952-91e62bfde2d4",
   "metadata": {},
   "outputs": [
    {
     "name": "stdout",
     "output_type": "stream",
     "text": [
      "[50, 65, 23, 82, 100]\n"
     ]
    }
   ],
   "source": [
    "def myfunc(n):\n",
    "  return abs(n - 50)\n",
    "\n",
    "thislist = [100, 50, 65, 82, 23]\n",
    "thislist.sort(key = myfunc)\n",
    "print(thislist)\n"
   ]
  },
  {
   "cell_type": "code",
   "execution_count": 9,
   "id": "6b6e4c71-8610-4a90-9436-15c57aa49eab",
   "metadata": {},
   "outputs": [
    {
     "name": "stdout",
     "output_type": "stream",
     "text": [
      "['Kiwi', 'Orange', 'banana', 'cherry']\n"
     ]
    }
   ],
   "source": [
    "thislist = [\"banana\", \"Orange\", \"Kiwi\", \"cherry\"]\n",
    "thislist.sort()\n",
    "print(thislist)"
   ]
  },
  {
   "cell_type": "code",
   "execution_count": 11,
   "id": "88551343-6d46-4184-a7a1-42fb8644fbfe",
   "metadata": {},
   "outputs": [
    {
     "name": "stdout",
     "output_type": "stream",
     "text": [
      "['banana', 'cherry', 'Kiwi', 'Orange']\n"
     ]
    }
   ],
   "source": [
    "thislist = [\"banana\", \"Orange\", \"Kiwi\", \"cherry\"]\n",
    "thislist.sort(key = str.lower)\n",
    "print(thislist)"
   ]
  },
  {
   "cell_type": "markdown",
   "id": "d24912f1-5fe3-492c-ab90-78e20f483002",
   "metadata": {},
   "source": [
    "example 37"
   ]
  },
  {
   "cell_type": "code",
   "execution_count": 13,
   "id": "c4a79124-63eb-4181-9c9b-07c9aa62c341",
   "metadata": {},
   "outputs": [
    {
     "name": "stdout",
     "output_type": "stream",
     "text": [
      "['apple', 'banana', 'cherry']\n"
     ]
    }
   ],
   "source": [
    "thislist = [\"apple\", \"banana\", \"cherry\"]\n",
    "mylist = thislist.copy()\n",
    "print(mylist)"
   ]
  },
  {
   "cell_type": "code",
   "execution_count": 15,
   "id": "68d0056f-b1ed-4dfa-8dff-3ad83357b959",
   "metadata": {},
   "outputs": [
    {
     "name": "stdout",
     "output_type": "stream",
     "text": [
      "['apple', 'banana', 'cherry']\n"
     ]
    }
   ],
   "source": [
    "thislist = [\"apple\", \"banana\", \"cherry\"]\n",
    "mylist = thislist[:]\n",
    "print(mylist)"
   ]
  },
  {
   "cell_type": "markdown",
   "id": "e009b91a-193e-45d4-beaf-10dff7c99d7a",
   "metadata": {},
   "source": [
    "example 38"
   ]
  },
  {
   "cell_type": "code",
   "execution_count": 17,
   "id": "616de443-3e0f-42ef-8158-ebab36c1d3eb",
   "metadata": {},
   "outputs": [
    {
     "name": "stdout",
     "output_type": "stream",
     "text": [
      "['a', 'b', 'c', 1, 2, 3]\n"
     ]
    }
   ],
   "source": [
    "list1 = [\"a\", \"b\", \"c\"]\n",
    "list2 = [1, 2, 3]\n",
    "\n",
    "list3 = list1 + list2\n",
    "print(list3)"
   ]
  },
  {
   "cell_type": "code",
   "execution_count": 19,
   "id": "3b819a16-8b5a-4bcc-bc6f-a81276ed8dbd",
   "metadata": {},
   "outputs": [
    {
     "name": "stdout",
     "output_type": "stream",
     "text": [
      "['a', 'b', 'c', 1, 2, 3]\n"
     ]
    }
   ],
   "source": [
    "list1 = [\"a\", \"b\" , \"c\"]\n",
    "list2 = [1, 2, 3]\n",
    "\n",
    "for x in list2:\n",
    "  list1.append(x)\n",
    "\n",
    "print(list1)"
   ]
  },
  {
   "cell_type": "code",
   "execution_count": 21,
   "id": "36cadbe5-dcbf-4b9f-aa79-78acd05d0b53",
   "metadata": {},
   "outputs": [
    {
     "name": "stdout",
     "output_type": "stream",
     "text": [
      "['a', 'b', 'c', 1, 2, 3]\n"
     ]
    }
   ],
   "source": [
    "list1 = [\"a\", \"b\" , \"c\"]\n",
    "list2 = [1, 2, 3]\n",
    "\n",
    "list1.extend(list2)\n",
    "print(list1)"
   ]
  },
  {
   "cell_type": "markdown",
   "id": "ad846497-059d-4789-92b5-f16d24541bd7",
   "metadata": {},
   "source": [
    "example 39"
   ]
  },
  {
   "cell_type": "code",
   "execution_count": 23,
   "id": "801c5e63-519a-41d6-a0cf-c5dbfdcb1b40",
   "metadata": {},
   "outputs": [
    {
     "name": "stdout",
     "output_type": "stream",
     "text": [
      "('apple', 'banana', 'cherry')\n"
     ]
    }
   ],
   "source": [
    "thistuple = (\"apple\", \"banana\", \"cherry\")\n",
    "print(thistuple) "
   ]
  },
  {
   "cell_type": "code",
   "execution_count": 25,
   "id": "25d1c8df-eaf4-4b10-8feb-42992033778c",
   "metadata": {},
   "outputs": [
    {
     "name": "stdout",
     "output_type": "stream",
     "text": [
      "<class 'tuple'>\n",
      "<class 'str'>\n"
     ]
    }
   ],
   "source": [
    "thistuple = (\"apple\",)\n",
    "print(type(thistuple))\n",
    "\n",
    "#NOT a tuple\n",
    "thistuple = (\"apple\")\n",
    "print(type(thistuple))"
   ]
  },
  {
   "cell_type": "code",
   "execution_count": 27,
   "id": "ff5111a9-b482-4bfa-9b1f-e81d82bb5d9f",
   "metadata": {},
   "outputs": [
    {
     "name": "stdout",
     "output_type": "stream",
     "text": [
      "<class 'tuple'>\n",
      "<class 'tuple'>\n"
     ]
    }
   ],
   "source": [
    "tuple1 = (\"apple\", \"banana\", \"cherry\")\n",
    "tuple2 = (1, 5, 7, 9, 3)\n",
    "tuple3 = (True, False, False)\n",
    "tuple4 = (\"abc\", 34, True, 40, \"male\")\n",
    "print(type(tuple1))\n",
    "print(type(tuple4))"
   ]
  },
  {
   "cell_type": "markdown",
   "id": "3312547d-7721-4ecc-a1d7-c484dfa94342",
   "metadata": {},
   "source": [
    "example 40"
   ]
  },
  {
   "cell_type": "code",
   "execution_count": 29,
   "id": "fe441d03-99c2-4a00-acfb-62426cdea601",
   "metadata": {},
   "outputs": [
    {
     "name": "stdout",
     "output_type": "stream",
     "text": [
      "Yes, 'apple' is in the fruits tuple\n"
     ]
    }
   ],
   "source": [
    "thistuple = (\"apple\", \"banana\", \"cherry\")\n",
    "if \"apple\" in thistuple:\n",
    "  print(\"Yes, 'apple' is in the fruits tuple\")"
   ]
  },
  {
   "cell_type": "markdown",
   "id": "a9070132-32c4-434d-850b-61fc320989ba",
   "metadata": {},
   "source": [
    "example 41"
   ]
  },
  {
   "cell_type": "code",
   "execution_count": 31,
   "id": "7a659104-3d90-4800-9fce-2db68308bdb7",
   "metadata": {},
   "outputs": [
    {
     "name": "stdout",
     "output_type": "stream",
     "text": [
      "('apple', 'kiwi', 'cherry')\n"
     ]
    }
   ],
   "source": [
    "x = (\"apple\", \"banana\", \"cherry\")\n",
    "y = list(x)\n",
    "y[1] = \"kiwi\"\n",
    "x = tuple(y)\n",
    "\n",
    "print(x)"
   ]
  },
  {
   "cell_type": "code",
   "execution_count": 33,
   "id": "f0dcbc8c-f1f7-49f6-bf46-e870f1e9bd4f",
   "metadata": {},
   "outputs": [
    {
     "name": "stdout",
     "output_type": "stream",
     "text": [
      "('apple', 'banana', 'cherry', 'orange')\n"
     ]
    }
   ],
   "source": [
    "thistuple = (\"apple\", \"banana\", \"cherry\")\n",
    "y = list(thistuple)\n",
    "y.append(\"orange\")\n",
    "thistuple = tuple(y)\n",
    "print(thistuple)"
   ]
  },
  {
   "cell_type": "code",
   "execution_count": 35,
   "id": "91a182c0-7eff-4f10-aaed-e1a16438166a",
   "metadata": {},
   "outputs": [
    {
     "name": "stdout",
     "output_type": "stream",
     "text": [
      "('apple', 'banana', 'cherry', 'orange')\n"
     ]
    }
   ],
   "source": [
    "thistuple = (\"apple\", \"banana\", \"cherry\")\n",
    "y = (\"orange\",)\n",
    "thistuple += y\n",
    "print(thistuple)"
   ]
  },
  {
   "cell_type": "code",
   "execution_count": 41,
   "id": "86a9f4bd-1825-45f3-ad4b-aed437c52764",
   "metadata": {},
   "outputs": [
    {
     "name": "stdout",
     "output_type": "stream",
     "text": [
      "('banana', 'cherry')\n"
     ]
    }
   ],
   "source": [
    "thistuple = (\"apple\", \"banana\", \"cherry\")\n",
    "y = list(thistuple)\n",
    "y.remove(\"apple\")\n",
    "thistuple = tuple(y)\n",
    "print(thistuple)"
   ]
  },
  {
   "cell_type": "code",
   "execution_count": null,
   "id": "5b0b7f2c-6ba2-4c0f-a783-1206a9f17306",
   "metadata": {},
   "outputs": [],
   "source": [
    "thistuple = (\"apple\", \"banana\", \"cherry\")\n",
    "del thistuple\n",
    "print(thistuple) #this will raise an error because the tuple no longer exists"
   ]
  },
  {
   "cell_type": "markdown",
   "id": "8f36798b-2d3f-48a9-9984-8167a7ad6ffa",
   "metadata": {},
   "source": [
    "example 42"
   ]
  },
  {
   "cell_type": "code",
   "execution_count": 43,
   "id": "4561f32a-d165-4d78-b54d-29b67a9b13d1",
   "metadata": {},
   "outputs": [
    {
     "name": "stdout",
     "output_type": "stream",
     "text": [
      "apple\n",
      "banana\n",
      "cherry\n"
     ]
    }
   ],
   "source": [
    "fruits = (\"apple\", \"banana\", \"cherry\")\n",
    "\n",
    "(green, yellow, red) = fruits\n",
    "\n",
    "print(green)\n",
    "print(yellow)\n",
    "print(red)"
   ]
  },
  {
   "cell_type": "code",
   "execution_count": 45,
   "id": "e2b52f44-6c16-4ca1-be6f-d2ac2b090fe5",
   "metadata": {},
   "outputs": [
    {
     "name": "stdout",
     "output_type": "stream",
     "text": [
      "apple\n",
      "banana\n",
      "['cherry', 'strawberry', 'raspberry']\n"
     ]
    }
   ],
   "source": [
    "fruits = (\"apple\", \"banana\", \"cherry\", \"strawberry\", \"raspberry\")\n",
    "\n",
    "(green, yellow, *red) = fruits\n",
    "\n",
    "print(green)\n",
    "print(yellow)\n",
    "print(red)"
   ]
  },
  {
   "cell_type": "code",
   "execution_count": 47,
   "id": "cc464ed2-27f6-4872-b56b-ae7d0c95fd85",
   "metadata": {},
   "outputs": [
    {
     "name": "stdout",
     "output_type": "stream",
     "text": [
      "apple\n",
      "['mango', 'papaya', 'pineapple']\n",
      "cherry\n"
     ]
    }
   ],
   "source": [
    "fruits = (\"apple\", \"mango\", \"papaya\", \"pineapple\", \"cherry\")\n",
    "\n",
    "(green, *tropic, red) = fruits\n",
    "\n",
    "print(green)\n",
    "print(tropic)\n",
    "print(red)"
   ]
  },
  {
   "cell_type": "markdown",
   "id": "544181c5-3965-4462-b853-6ea1859f30e1",
   "metadata": {},
   "source": [
    "example 43"
   ]
  },
  {
   "cell_type": "code",
   "execution_count": 1,
   "id": "a283acdb-a82d-474c-aeee-958a29e5272b",
   "metadata": {},
   "outputs": [
    {
     "name": "stdout",
     "output_type": "stream",
     "text": [
      "apple\n",
      "banana\n",
      "cherry\n"
     ]
    }
   ],
   "source": [
    "thistuple = (\"apple\", \"banana\", \"cherry\")\n",
    "for i in range(len(thistuple)):\n",
    "  print(thistuple[i])"
   ]
  },
  {
   "cell_type": "markdown",
   "id": "ae002aa1-08f2-4244-a613-387b09edc78f",
   "metadata": {},
   "source": [
    "example 44"
   ]
  },
  {
   "cell_type": "code",
   "execution_count": 4,
   "id": "405748a4-e56e-482a-a113-e72776a97436",
   "metadata": {},
   "outputs": [],
   "source": [
    "set1 = {\"abc\", 34, True, 40, \"male\"}"
   ]
  },
  {
   "cell_type": "code",
   "execution_count": 6,
   "id": "5b5ff561-12da-4a08-9774-9c140f45b921",
   "metadata": {},
   "outputs": [
    {
     "name": "stdout",
     "output_type": "stream",
     "text": [
      "{'apple', 'cherry', 'banana'}\n"
     ]
    }
   ],
   "source": [
    "thisset = set((\"apple\", \"banana\", \"cherry\")) # note the double round-brackets\n",
    "print(thisset)"
   ]
  },
  {
   "cell_type": "markdown",
   "id": "25055e76-620b-4410-b3f3-533f251fe66c",
   "metadata": {},
   "source": [
    "example 45"
   ]
  },
  {
   "cell_type": "code",
   "execution_count": 8,
   "id": "bcc47145-67e6-4139-b693-f67e44c564bd",
   "metadata": {},
   "outputs": [
    {
     "name": "stdout",
     "output_type": "stream",
     "text": [
      "True\n"
     ]
    }
   ],
   "source": [
    "thisset = {\"apple\", \"banana\", \"cherry\"}\n",
    "\n",
    "print(\"banana\" in thisset)"
   ]
  },
  {
   "cell_type": "code",
   "execution_count": 10,
   "id": "d0f59125-b342-419b-9fb6-ba050ed5b0b1",
   "metadata": {},
   "outputs": [
    {
     "name": "stdout",
     "output_type": "stream",
     "text": [
      "{'apple', 'cherry', 'orange', 'banana'}\n"
     ]
    }
   ],
   "source": [
    "thisset = {\"apple\", \"banana\", \"cherry\"}\n",
    "\n",
    "thisset.add(\"orange\")\n",
    "\n",
    "print(thisset)"
   ]
  },
  {
   "cell_type": "code",
   "execution_count": 12,
   "id": "89294bee-9d1e-4a36-841c-8d95a4afe11d",
   "metadata": {},
   "outputs": [
    {
     "name": "stdout",
     "output_type": "stream",
     "text": [
      "{'apple', 'cherry', 'banana', 'mango', 'papaya', 'pineapple'}\n"
     ]
    }
   ],
   "source": [
    "thisset = {\"apple\", \"banana\", \"cherry\"}\n",
    "tropical = {\"pineapple\", \"mango\", \"papaya\"}\n",
    "\n",
    "thisset.update(tropical)\n",
    "\n",
    "print(thisset)"
   ]
  },
  {
   "cell_type": "code",
   "execution_count": 16,
   "id": "a65e5ec7-317c-4c95-ab9c-d6a1726b67ad",
   "metadata": {},
   "outputs": [
    {
     "name": "stdout",
     "output_type": "stream",
     "text": [
      "{'apple', 'cherry'}\n"
     ]
    }
   ],
   "source": [
    "thisset = {\"apple\", \"banana\", \"cherry\"}\n",
    "\n",
    "thisset.remove(\"banana\")\n",
    "\n",
    "print(thisset)"
   ]
  },
  {
   "cell_type": "code",
   "execution_count": 18,
   "id": "7b6090b3-c494-4933-9f42-e5558fae0d04",
   "metadata": {},
   "outputs": [
    {
     "name": "stdout",
     "output_type": "stream",
     "text": [
      "{'apple', 'cherry'}\n"
     ]
    }
   ],
   "source": [
    "thisset = {\"apple\", \"banana\", \"cherry\"}\n",
    "\n",
    "thisset.discard(\"banana\")\n",
    "\n",
    "print(thisset)"
   ]
  },
  {
   "cell_type": "code",
   "execution_count": 20,
   "id": "6e471842-fbd6-4025-b99b-d943700c4d6b",
   "metadata": {},
   "outputs": [
    {
     "name": "stdout",
     "output_type": "stream",
     "text": [
      "apple\n",
      "{'cherry', 'banana'}\n"
     ]
    }
   ],
   "source": [
    "thisset = {\"apple\", \"banana\", \"cherry\"}\n",
    "\n",
    "x = thisset.pop()\n",
    "\n",
    "print(x)\n",
    "\n",
    "print(thisset)"
   ]
  },
  {
   "cell_type": "markdown",
   "id": "afd459a1-1d70-4c3c-a923-368abd29a281",
   "metadata": {},
   "source": [
    "example 46"
   ]
  },
  {
   "cell_type": "code",
   "execution_count": 3,
   "id": "ae7ff859-4a9f-484e-b772-f078d206ad02",
   "metadata": {},
   "outputs": [
    {
     "name": "stdout",
     "output_type": "stream",
     "text": [
      "{1, 'c', 'a', 'b', 2, 3}\n"
     ]
    }
   ],
   "source": [
    "set1 = {\"a\", \"b\", \"c\"}\n",
    "set2 = {1, 2, 3}\n",
    "\n",
    "set3 = set1.union(set2)\n",
    "print(set3)"
   ]
  },
  {
   "cell_type": "code",
   "execution_count": 5,
   "id": "9e6a2329-245a-414d-9268-297d9f4f48c3",
   "metadata": {},
   "outputs": [
    {
     "name": "stdout",
     "output_type": "stream",
     "text": [
      "{'e', 'h', 1, 2, 3, 'd'}\n"
     ]
    }
   ],
   "source": [
    "set1={'d','e','h'}\n",
    "set2={1,2,3}\n",
    "set3=set1 | set2\n",
    "print(set3)"
   ]
  },
  {
   "cell_type": "code",
   "execution_count": 7,
   "id": "ff161234-c4a3-4df9-bb54-8e2a4226c5f2",
   "metadata": {},
   "outputs": [
    {
     "name": "stdout",
     "output_type": "stream",
     "text": [
      "{1, 2, 3, 'b', 'bananas', 'Elena', 'John', 'c', 'a', 'apple', 'cherry'}\n"
     ]
    }
   ],
   "source": [
    "set1 = {\"a\", \"b\", \"c\"}\n",
    "set2 = {1, 2, 3}\n",
    "set3 = {\"John\", \"Elena\"}\n",
    "set4 = {\"apple\", \"bananas\", \"cherry\"}\n",
    "\n",
    "myset = set1.union(set2, set3, set4)\n",
    "print(myset)"
   ]
  },
  {
   "cell_type": "code",
   "execution_count": 9,
   "id": "8a115f3e-a87a-4f79-93f5-62d2c2ceaa8b",
   "metadata": {},
   "outputs": [
    {
     "name": "stdout",
     "output_type": "stream",
     "text": [
      "{1, 2, 3, 'b', 'bananas', 'Elena', 'John', 'c', 'a', 'apple', 'cherry'}\n"
     ]
    }
   ],
   "source": [
    "set1 = {\"a\", \"b\", \"c\"}\n",
    "set2 = {1, 2, 3}\n",
    "set3 = {\"John\", \"Elena\"}\n",
    "set4 = {\"apple\", \"bananas\", \"cherry\"}\n",
    "\n",
    "myset = set1 | set2 | set3 |set4\n",
    "print(myset)\n"
   ]
  },
  {
   "cell_type": "markdown",
   "id": "4377b458-8aa9-4f33-bbec-2e162a4a8307",
   "metadata": {},
   "source": [
    "example 47"
   ]
  },
  {
   "cell_type": "code",
   "execution_count": 11,
   "id": "3464d256-588e-40d6-a30a-8efec2c6e794",
   "metadata": {},
   "outputs": [
    {
     "name": "stdout",
     "output_type": "stream",
     "text": [
      "{1, 2, 3, 'b', 'c', 'a'}\n"
     ]
    }
   ],
   "source": [
    "x = {\"a\", \"b\", \"c\"}\n",
    "y = (1, 2, 3)\n",
    "\n",
    "z = x.union(y)\n",
    "print(z)"
   ]
  },
  {
   "cell_type": "markdown",
   "id": "1f00f807-6d52-4312-90f3-bd654b8e630c",
   "metadata": {},
   "source": [
    "example 48"
   ]
  },
  {
   "cell_type": "code",
   "execution_count": 13,
   "id": "1e4404da-5cf5-4d26-b96d-dbed3252560b",
   "metadata": {},
   "outputs": [
    {
     "name": "stdout",
     "output_type": "stream",
     "text": [
      "{1, 'c', 'a', 'b', 2, 3}\n"
     ]
    }
   ],
   "source": [
    "set1 = {\"a\", \"b\" , \"c\"}\n",
    "set2 = {1, 2, 3}\n",
    "\n",
    "set1.update(set2)\n",
    "print(set1)"
   ]
  },
  {
   "cell_type": "code",
   "execution_count": 15,
   "id": "d5a767a1-d40e-4d20-b48d-deafda608c8c",
   "metadata": {},
   "outputs": [
    {
     "name": "stdout",
     "output_type": "stream",
     "text": [
      "{'apple'}\n"
     ]
    }
   ],
   "source": [
    "set1 = {\"apple\", \"banana\", \"cherry\"}\n",
    "set2 = {\"google\", \"microsoft\", \"apple\"}\n",
    "\n",
    "set3 = set1.intersection(set2)\n",
    "print(set3)"
   ]
  },
  {
   "cell_type": "code",
   "execution_count": 17,
   "id": "9fe0813e-0fb4-489b-b964-29af9bcc076f",
   "metadata": {},
   "outputs": [
    {
     "name": "stdout",
     "output_type": "stream",
     "text": [
      "{'apple'}\n"
     ]
    }
   ],
   "source": [
    "set1 = {\"apple\", \"banana\", \"cherry\"}\n",
    "set2 = {\"google\", \"microsoft\", \"apple\"}\n",
    "\n",
    "set3 = set1 & set2\n",
    "print(set3)"
   ]
  },
  {
   "cell_type": "code",
   "execution_count": 19,
   "id": "5798fb07-01e6-40cf-9f9e-00ef58d39db7",
   "metadata": {},
   "outputs": [
    {
     "name": "stdout",
     "output_type": "stream",
     "text": [
      "{'apple'}\n"
     ]
    }
   ],
   "source": [
    "set1 = {\"apple\", \"banana\", \"cherry\"}\n",
    "set2 = {\"google\", \"microsoft\", \"apple\"}\n",
    "\n",
    "set1.intersection_update(set2)\n",
    "\n",
    "print(set1)"
   ]
  },
  {
   "cell_type": "code",
   "execution_count": 21,
   "id": "eed5d2ce-8aa4-4a1c-bcaf-24f1c1d5568b",
   "metadata": {},
   "outputs": [
    {
     "name": "stdout",
     "output_type": "stream",
     "text": [
      "{False, 1, 'apple'}\n"
     ]
    }
   ],
   "source": [
    "set1 = {\"apple\", 1, \"banana\", 0, \"cherry\"}\n",
    "set2 = {False, \"google\", 1, \"apple\", 2, True}\n",
    "\n",
    "set3 = set1.intersection(set2)\n",
    "\n",
    "print(set3)"
   ]
  },
  {
   "cell_type": "markdown",
   "id": "a54eec9f-aa91-4da4-8766-d040c91eac88",
   "metadata": {},
   "source": [
    "example 49"
   ]
  },
  {
   "cell_type": "code",
   "execution_count": 25,
   "id": "22c0b7de-bfc7-4dfd-8920-06115364a302",
   "metadata": {},
   "outputs": [
    {
     "name": "stdout",
     "output_type": "stream",
     "text": [
      "{'cherry', 'banana'}\n"
     ]
    }
   ],
   "source": [
    "set1 = {\"apple\", \"banana\", \"cherry\"}\n",
    "set2 = {\"google\", \"microsoft\", \"apple\"}\n",
    "\n",
    "set3 = set1.difference(set2)\n",
    "\n",
    "print(set3)"
   ]
  },
  {
   "cell_type": "code",
   "execution_count": 29,
   "id": "509d40ea-7791-4738-a8ea-b974f5f5c759",
   "metadata": {},
   "outputs": [
    {
     "name": "stdout",
     "output_type": "stream",
     "text": [
      "{'cherry', 'banana'}\n"
     ]
    }
   ],
   "source": [
    "set1 = {\"apple\", \"banana\", \"cherry\"}\n",
    "set2 = {\"google\", \"microsoft\", \"apple\"}\n",
    "\n",
    "set3 = set1 - set2\n",
    "print(set3)"
   ]
  },
  {
   "cell_type": "code",
   "execution_count": 31,
   "id": "782de777-b3c2-4420-9c5e-df297c083c74",
   "metadata": {},
   "outputs": [
    {
     "name": "stdout",
     "output_type": "stream",
     "text": [
      "{'cherry', 'banana'}\n"
     ]
    }
   ],
   "source": [
    "set1 = {\"apple\", \"banana\", \"cherry\"}\n",
    "set2 = {\"google\", \"microsoft\", \"apple\"}\n",
    "\n",
    "set1.difference_update(set2)\n",
    "\n",
    "print(set1)"
   ]
  },
  {
   "cell_type": "markdown",
   "id": "2cb48188-cdf0-4f2d-8bcb-5aa79d3e25fc",
   "metadata": {},
   "source": [
    "example 50"
   ]
  },
  {
   "cell_type": "code",
   "execution_count": 33,
   "id": "1a449db7-44fe-4e4d-ab25-d1882ac485fb",
   "metadata": {},
   "outputs": [
    {
     "name": "stdout",
     "output_type": "stream",
     "text": [
      "{'microsoft', 'google', 'banana', 'cherry'}\n"
     ]
    }
   ],
   "source": [
    "set1 = {\"apple\", \"banana\", \"cherry\"}\n",
    "set2 = {\"google\", \"microsoft\", \"apple\"}\n",
    "\n",
    "set3 = set1.symmetric_difference(set2)\n",
    "\n",
    "print(set3)"
   ]
  },
  {
   "cell_type": "code",
   "execution_count": 35,
   "id": "23b2d5af-ee5a-4954-8679-ec61ac0e28eb",
   "metadata": {},
   "outputs": [
    {
     "name": "stdout",
     "output_type": "stream",
     "text": [
      "{'microsoft', 'google', 'banana', 'cherry'}\n"
     ]
    }
   ],
   "source": [
    "set1 = {\"apple\", \"banana\", \"cherry\"}\n",
    "set2 = {\"google\", \"microsoft\", \"apple\"}\n",
    "\n",
    "set3 = set1 ^ set2\n",
    "print(set3)"
   ]
  },
  {
   "cell_type": "code",
   "execution_count": 37,
   "id": "d1a66f7f-f1d8-4286-9dfd-1bfe9f8b6ac4",
   "metadata": {},
   "outputs": [
    {
     "name": "stdout",
     "output_type": "stream",
     "text": [
      "{'microsoft', 'google', 'banana', 'cherry'}\n"
     ]
    }
   ],
   "source": [
    "set1 = {\"apple\", \"banana\", \"cherry\"}\n",
    "set2 = {\"google\", \"microsoft\", \"apple\"}\n",
    "\n",
    "set1.symmetric_difference_update(set2)\n",
    "\n",
    "print(set1)\n"
   ]
  },
  {
   "cell_type": "markdown",
   "id": "24411bf7-8865-4c74-bb23-b528b43b1aeb",
   "metadata": {},
   "source": [
    "example 51"
   ]
  },
  {
   "cell_type": "code",
   "execution_count": 40,
   "id": "57d6eada-f0da-4f3e-85b3-bb10b60ba91a",
   "metadata": {},
   "outputs": [
    {
     "name": "stdout",
     "output_type": "stream",
     "text": [
      "{'brand': 'Ford', 'model': 'Mustang', 'year': 1964}\n"
     ]
    }
   ],
   "source": [
    "thisdict = {\n",
    "  \"brand\": \"Ford\",\n",
    "  \"model\": \"Mustang\",\n",
    "  \"year\": 1964\n",
    "}\n",
    "print(thisdict)"
   ]
  },
  {
   "cell_type": "code",
   "execution_count": 42,
   "id": "28f0bd44-cbef-48bd-9777-ee9196c7863e",
   "metadata": {},
   "outputs": [
    {
     "name": "stdout",
     "output_type": "stream",
     "text": [
      "Ford\n"
     ]
    }
   ],
   "source": [
    "thisdict = {\n",
    "  \"brand\": \"Ford\",\n",
    "  \"model\": \"Mustang\",\n",
    "  \"year\": 1964\n",
    "}\n",
    "print(thisdict[\"brand\"])\n"
   ]
  },
  {
   "cell_type": "code",
   "execution_count": 46,
   "id": "b3dec4b9-ee63-4da3-a267-a64e856101dd",
   "metadata": {},
   "outputs": [
    {
     "name": "stdout",
     "output_type": "stream",
     "text": [
      "{'brand': 'Ford', 'model': 'Mustang', 'year': 2020}\n",
      "3\n",
      "<class 'dict'>\n"
     ]
    }
   ],
   "source": [
    "thisdict = {\n",
    "  \"brand\": \"Ford\",\n",
    "  \"model\": \"Mustang\",\n",
    "  \"year\": 1964,\n",
    "  \"year\": 2020\n",
    "}\n",
    "print(thisdict)\n",
    "print(len(thisdict))\n",
    "print(type(thisdict))"
   ]
  },
  {
   "cell_type": "code",
   "execution_count": 48,
   "id": "d6d0e232-d75f-401e-8c42-eab40e16486c",
   "metadata": {},
   "outputs": [
    {
     "name": "stdout",
     "output_type": "stream",
     "text": [
      "{'name': 'John', 'age': 36, 'country': 'Norway'}\n"
     ]
    }
   ],
   "source": [
    "thisdict = dict(name = \"John\", age = 36, country = \"Norway\")\n",
    "print(thisdict)\n"
   ]
  },
  {
   "cell_type": "markdown",
   "id": "e95ef82b-8b23-4b4e-a816-85f4ff55076d",
   "metadata": {},
   "source": [
    "example 52"
   ]
  },
  {
   "cell_type": "code",
   "execution_count": 68,
   "id": "3c6fc2d2-ed38-426e-b83b-82d5df979180",
   "metadata": {},
   "outputs": [
    {
     "name": "stdout",
     "output_type": "stream",
     "text": [
      "Mustang\n",
      "Mustang\n",
      "dict_keys(['brand', 'model', 'year'])\n",
      "dict_values(['Ford', 'Mustang', 1964])\n",
      "dict_items([('brand', 'Ford'), ('model', 'Mustang'), ('year', 1964)])\n"
     ]
    }
   ],
   "source": [
    "thisdict = {\n",
    "  \"brand\": \"Ford\",\n",
    "  \"model\": \"Mustang\",\n",
    "  \"year\": 1964\n",
    "}\n",
    "x = thisdict[\"model\"]\n",
    "y = thisdict.get(\"model\")\n",
    "z = thisdict.keys()\n",
    "d = thisdict.values()\n",
    "e = thisdict.items()\n",
    "\n",
    "print(x)\n",
    "print(y)\n",
    "print(z)\n",
    "print(d)\n",
    "print(e)"
   ]
  },
  {
   "cell_type": "code",
   "execution_count": 60,
   "id": "eea1c598-a14a-41f0-8464-d95d0b499860",
   "metadata": {},
   "outputs": [
    {
     "name": "stdout",
     "output_type": "stream",
     "text": [
      "dict_keys(['brand', 'model', 'year'])\n",
      "dict_keys(['brand', 'model', 'year', 'color'])\n"
     ]
    }
   ],
   "source": [
    "car = {\n",
    "\"brand\": \"Ford\",\n",
    "\"model\": \"Mustang\",\n",
    "\"year\": 1964\n",
    "}\n",
    "\n",
    "x = car.keys()\n",
    "\n",
    "print(x) #before the change\n",
    "\n",
    "car[\"color\"] = \"white\"\n",
    "\n",
    "print(x) #after the change"
   ]
  },
  {
   "cell_type": "code",
   "execution_count": 64,
   "id": "5cfc7cb3-995d-4a97-8382-446a01aacbca",
   "metadata": {},
   "outputs": [
    {
     "name": "stdout",
     "output_type": "stream",
     "text": [
      "dict_values(['Ford', 'Mustang', 1964])\n",
      "dict_values(['Ford', 'Mustang', 2020])\n"
     ]
    }
   ],
   "source": [
    "car = {\n",
    "\"brand\": \"Ford\",\n",
    "\"model\": \"Mustang\",\n",
    "\"year\": 1964\n",
    "}\n",
    "\n",
    "x = car.values()\n",
    "\n",
    "print(x) #before the change\n",
    "\n",
    "car[\"year\"] = 2020\n",
    "\n",
    "print(x) #after the change"
   ]
  },
  {
   "cell_type": "code",
   "execution_count": 66,
   "id": "cab666ff-3e73-4ced-93c9-0648b5d8808d",
   "metadata": {},
   "outputs": [
    {
     "name": "stdout",
     "output_type": "stream",
     "text": [
      "dict_values(['Ford', 'Mustang', 1964])\n",
      "dict_values(['Ford', 'Mustang', 1964, 'red'])\n"
     ]
    }
   ],
   "source": [
    "car = {\n",
    "\"brand\": \"Ford\",\n",
    "\"model\": \"Mustang\",\n",
    "\"year\": 1964\n",
    "}\n",
    "\n",
    "x = car.values()\n",
    "\n",
    "print(x) #before the change\n",
    "\n",
    "car[\"color\"] = \"red\"\n",
    "\n",
    "print(x) #after the change"
   ]
  },
  {
   "cell_type": "markdown",
   "id": "a9db5d44-3ba2-4e61-ad50-c7b13f997cb7",
   "metadata": {},
   "source": [
    "example 53"
   ]
  },
  {
   "cell_type": "code",
   "execution_count": 70,
   "id": "e9b8dab7-e9a8-4a14-af4b-160c02279a94",
   "metadata": {},
   "outputs": [
    {
     "name": "stdout",
     "output_type": "stream",
     "text": [
      "{'brand': 'Ford', 'model': 'Mustang', 'year': 1964}\n",
      "{'brand': 'Ford', 'model': 'Mustang', 'year': 2020}\n"
     ]
    }
   ],
   "source": [
    "thisdict = {\n",
    "  \"brand\": \"Ford\",\n",
    "  \"model\": \"Mustang\",\n",
    "  \"year\": 1964\n",
    "}\n",
    "print(thisdict)\n",
    "thisdict.update({\"year\": 2020})\n",
    "print(thisdict)"
   ]
  },
  {
   "cell_type": "markdown",
   "id": "07122be3-2511-4f0e-a08d-124f7aa32eb2",
   "metadata": {},
   "source": [
    "example 54"
   ]
  },
  {
   "cell_type": "code",
   "execution_count": 72,
   "id": "c012dd5b-8cab-4e8f-a05e-e3275d80c67d",
   "metadata": {},
   "outputs": [
    {
     "name": "stdout",
     "output_type": "stream",
     "text": [
      "{'brand': 'Ford', 'model': 'Mustang', 'year': 1964, 'color': 'red'}\n"
     ]
    }
   ],
   "source": [
    "thisdict = {\n",
    "  \"brand\": \"Ford\",\n",
    "  \"model\": \"Mustang\",\n",
    "  \"year\": 1964\n",
    "}\n",
    "thisdict[\"color\"] = \"red\"\n",
    "print(thisdict)"
   ]
  },
  {
   "cell_type": "code",
   "execution_count": 76,
   "id": "4a114000-1b17-486e-84f3-39633b792a08",
   "metadata": {},
   "outputs": [
    {
     "name": "stdout",
     "output_type": "stream",
     "text": [
      "{'brand': 'Ford', 'model': 'Mustang', 'year': 1964, 'color': 'red'}\n"
     ]
    }
   ],
   "source": [
    "thisdict = {\n",
    "  \"brand\": \"Ford\",\n",
    "  \"model\": \"Mustang\",\n",
    "  \"year\": 1964\n",
    "}\n",
    "thisdict.update({\"color\": \"red\"})\n",
    "print(thisdict)"
   ]
  },
  {
   "cell_type": "markdown",
   "id": "727f47ba-231a-4938-b5de-8518003566d4",
   "metadata": {},
   "source": [
    "example 55"
   ]
  },
  {
   "cell_type": "code",
   "execution_count": 78,
   "id": "573e087d-0171-45f7-b7bc-5c36899d27ea",
   "metadata": {},
   "outputs": [
    {
     "name": "stdout",
     "output_type": "stream",
     "text": [
      "{'brand': 'Ford', 'year': 1964}\n"
     ]
    }
   ],
   "source": [
    "thisdict = {\n",
    "  \"brand\": \"Ford\",\n",
    "  \"model\": \"Mustang\",\n",
    "  \"year\": 1964\n",
    "}\n",
    "thisdict.pop(\"model\")\n",
    "print(thisdict)"
   ]
  },
  {
   "cell_type": "code",
   "execution_count": 80,
   "id": "b85251fd-0d55-4a2c-9991-d0f8f3350786",
   "metadata": {},
   "outputs": [
    {
     "name": "stdout",
     "output_type": "stream",
     "text": [
      "{'brand': 'Ford', 'model': 'Mustang'}\n"
     ]
    }
   ],
   "source": [
    "thisdict = {\n",
    "  \"brand\": \"Ford\",\n",
    "  \"model\": \"Mustang\",\n",
    "  \"year\": 1964\n",
    "}\n",
    "thisdict.popitem()\n",
    "print(thisdict)"
   ]
  },
  {
   "cell_type": "code",
   "execution_count": 82,
   "id": "3b73d9ce-41f4-4425-9540-f9319cc46b7f",
   "metadata": {},
   "outputs": [
    {
     "name": "stdout",
     "output_type": "stream",
     "text": [
      "{'brand': 'Ford', 'year': 1964}\n"
     ]
    }
   ],
   "source": [
    "thisdict = {\n",
    "  \"brand\": \"Ford\",\n",
    "  \"model\": \"Mustang\",\n",
    "  \"year\": 1964\n",
    "}\n",
    "del thisdict[\"model\"]\n",
    "print(thisdict)"
   ]
  },
  {
   "cell_type": "code",
   "execution_count": 84,
   "id": "02a19e3d-1e38-42c7-b3d9-36ea53cbbcbe",
   "metadata": {},
   "outputs": [
    {
     "name": "stdout",
     "output_type": "stream",
     "text": [
      "{}\n"
     ]
    }
   ],
   "source": [
    "thisdict = {\n",
    "  \"brand\": \"Ford\",\n",
    "  \"model\": \"Mustang\",\n",
    "  \"year\": 1964\n",
    "}\n",
    "thisdict.clear()\n",
    "print(thisdict)"
   ]
  },
  {
   "cell_type": "markdown",
   "id": "0f4b6c21-acef-4764-8cd8-6dc0d9517e93",
   "metadata": {},
   "source": [
    "example 56"
   ]
  },
  {
   "cell_type": "code",
   "execution_count": 94,
   "id": "c248d0df-a80c-40ef-857d-7d3799ff86e2",
   "metadata": {},
   "outputs": [
    {
     "name": "stdout",
     "output_type": "stream",
     "text": [
      "brand\n",
      "model\n",
      "year\n",
      " \n",
      "Ford\n",
      "Mustang\n",
      "1964\n",
      " \n",
      "Ford\n",
      "Mustang\n",
      "1964\n",
      " \n",
      "brand\n",
      "model\n",
      "year\n",
      " \n",
      "brand Ford\n",
      "model Mustang\n",
      "year 1964\n"
     ]
    }
   ],
   "source": [
    "thisdict =\t{\n",
    "  \"brand\": \"Ford\",\n",
    "  \"model\": \"Mustang\",\n",
    "  \"year\": 1964\n",
    "}\n",
    "for x in thisdict:\n",
    "  print(x)\n",
    "\n",
    "print(\" \")\n",
    "for x in thisdict:\n",
    "  print(thisdict[x])\n",
    "\n",
    "print(\" \")\n",
    "for x in thisdict.values():\n",
    "  print(x)\n",
    "\n",
    "print(\" \")\n",
    "for x in thisdict.keys():\n",
    "  print(x)\n",
    "\n",
    "print(\" \")\n",
    "for x , y in thisedict.items():\n",
    "    print(x,y)"
   ]
  },
  {
   "cell_type": "markdown",
   "id": "a8ae2fd1-def3-4e5e-80ad-b869399a3b15",
   "metadata": {},
   "source": [
    "example 57 "
   ]
  },
  {
   "cell_type": "code",
   "execution_count": 96,
   "id": "ca8c7d3e-9f52-45af-bf94-6babb1449639",
   "metadata": {},
   "outputs": [
    {
     "name": "stdout",
     "output_type": "stream",
     "text": [
      "{'brand': 'Ford', 'model': 'Mustang', 'year': 1964}\n"
     ]
    }
   ],
   "source": [
    "thisdict = {\n",
    "  \"brand\": \"Ford\",\n",
    "  \"model\": \"Mustang\",\n",
    "  \"year\": 1964\n",
    "}\n",
    "mydict = thisdict.copy()\n",
    "print(mydict)"
   ]
  },
  {
   "cell_type": "code",
   "execution_count": 98,
   "id": "b53e8ad9-0a31-472d-856e-1f1807d09746",
   "metadata": {},
   "outputs": [
    {
     "name": "stdout",
     "output_type": "stream",
     "text": [
      "{'brand': 'Ford', 'model': 'Mustang', 'year': 1964}\n"
     ]
    }
   ],
   "source": [
    "thisdict = {\n",
    "  \"brand\": \"Ford\",\n",
    "  \"model\": \"Mustang\",\n",
    "  \"year\": 1964\n",
    "}\n",
    "mydict = dict(thisdict)\n",
    "print(mydict)"
   ]
  },
  {
   "cell_type": "markdown",
   "id": "eccb0910-c08c-4afc-8711-da8eabee5e22",
   "metadata": {},
   "source": [
    "example 58"
   ]
  },
  {
   "cell_type": "code",
   "execution_count": 100,
   "id": "10de1d49-ee9c-4189-bcb9-56a40cb28287",
   "metadata": {},
   "outputs": [
    {
     "name": "stdout",
     "output_type": "stream",
     "text": [
      "{'child1': {'name': 'Emil', 'year': 2004}, 'child2': {'name': 'Tobias', 'year': 2007}, 'child3': {'name': 'Linus', 'year': 2011}}\n"
     ]
    }
   ],
   "source": [
    "myfamily = {\n",
    "  \"child1\" : {\n",
    "    \"name\" : \"Emil\",\n",
    "    \"year\" : 2004\n",
    "  },\n",
    "  \"child2\" : {\n",
    "    \"name\" : \"Tobias\",\n",
    "    \"year\" : 2007\n",
    "  },\n",
    "  \"child3\" : {\n",
    "    \"name\" : \"Linus\",\n",
    "    \"year\" : 2011\n",
    "  }\n",
    "}\n",
    "\n",
    "print(myfamily)\n"
   ]
  },
  {
   "cell_type": "code",
   "execution_count": 110,
   "id": "e022ae12-bd4b-49db-80af-af7460e145c1",
   "metadata": {},
   "outputs": [
    {
     "name": "stdout",
     "output_type": "stream",
     "text": [
      "{'child1': {'name': 'Emil', 'year': 2004}, 'child2': {'name': 'Tobias', 'year': 2007}, 'child3': {'name': 'Linus', 'year': 2011}}\n",
      "Tobias\n",
      " \n",
      "child1\n",
      "name: Emil\n",
      "year: 2004\n",
      "child2\n",
      "name: Tobias\n",
      "year: 2007\n",
      "child3\n",
      "name: Linus\n",
      "year: 2011\n"
     ]
    }
   ],
   "source": [
    "child1 = {\n",
    "  \"name\" : \"Emil\",\n",
    "  \"year\" : 2004\n",
    "}\n",
    "child2 = {\n",
    "  \"name\" : \"Tobias\",\n",
    "  \"year\" : 2007\n",
    "}\n",
    "child3 = {\n",
    "  \"name\" : \"Linus\",\n",
    "  \"year\" : 2011\n",
    "}\n",
    "\n",
    "myfamily = {\n",
    "  \"child1\" : child1,\n",
    "  \"child2\" : child2,\n",
    "  \"child3\" : child3\n",
    "}\n",
    "\n",
    "print(myfamily)\n",
    "\n",
    "print(myfamily[\"child2\"][\"name\"])\n",
    "print(\" \" )\n",
    "for x, obj in myfamily.items():\n",
    "    print(x)\n",
    "    \n",
    "    for y in obj:\n",
    "        print(y + ':', obj[y])"
   ]
  },
  {
   "cell_type": "markdown",
   "id": "87d56e27-1ead-4561-b3f1-faad03493b77",
   "metadata": {},
   "source": [
    "example 59"
   ]
  },
  {
   "cell_type": "code",
   "execution_count": 112,
   "id": "9a1cd8d1-ff25-445c-9945-15537c8043d9",
   "metadata": {},
   "outputs": [
    {
     "name": "stdout",
     "output_type": "stream",
     "text": [
      "b is greater than a\n"
     ]
    }
   ],
   "source": [
    "a = 33\n",
    "b = 200\n",
    "if b > a:\n",
    "  print(\"b is greater than a\")"
   ]
  },
  {
   "cell_type": "code",
   "execution_count": 114,
   "id": "c5ff5205-d79d-447c-a4a1-64f44a4becef",
   "metadata": {},
   "outputs": [
    {
     "name": "stdout",
     "output_type": "stream",
     "text": [
      "a and b are equal\n"
     ]
    }
   ],
   "source": [
    "a = 33\n",
    "b = 33\n",
    "if b > a:\n",
    "  print(\"b is greater than a\")\n",
    "elif a == b:\n",
    "  print(\"a and b are equal\")"
   ]
  },
  {
   "cell_type": "code",
   "execution_count": 116,
   "id": "1f272770-d15d-4d56-ab1a-022ff6fe3b38",
   "metadata": {},
   "outputs": [
    {
     "name": "stdout",
     "output_type": "stream",
     "text": [
      "b is not greater than a\n"
     ]
    }
   ],
   "source": [
    "a = 200\n",
    "b = 33\n",
    "if b > a:\n",
    "  print(\"b is greater than a\")\n",
    "else:\n",
    "  print(\"b is not greater than a\")"
   ]
  },
  {
   "cell_type": "code",
   "execution_count": 118,
   "id": "ea6a80da-f82f-4e59-9cd1-e6f0b55cf798",
   "metadata": {},
   "outputs": [
    {
     "name": "stdout",
     "output_type": "stream",
     "text": [
      "a is greater than b\n"
     ]
    }
   ],
   "source": [
    "if a > b: print(\"a is greater than b\")"
   ]
  },
  {
   "cell_type": "code",
   "execution_count": 120,
   "id": "a08bc319-cec5-421e-af13-306de31ec835",
   "metadata": {},
   "outputs": [
    {
     "name": "stdout",
     "output_type": "stream",
     "text": [
      "B\n"
     ]
    }
   ],
   "source": [
    "a = 2\n",
    "b = 330\n",
    "print(\"A\") if a > b else print(\"B\")"
   ]
  },
  {
   "cell_type": "code",
   "execution_count": 122,
   "id": "87fe19c8-0b6a-4845-9a2b-330abe5939cc",
   "metadata": {},
   "outputs": [],
   "source": [
    "a = 33\n",
    "b = 200\n",
    "\n",
    "if b > a:\n",
    "  pass"
   ]
  },
  {
   "cell_type": "markdown",
   "id": "3f6ceaaa-784e-4924-98be-50051f484e94",
   "metadata": {},
   "source": [
    "example 60"
   ]
  },
  {
   "cell_type": "code",
   "execution_count": 124,
   "id": "5e9d3568-3209-4d57-a156-94d775951416",
   "metadata": {},
   "outputs": [
    {
     "name": "stdout",
     "output_type": "stream",
     "text": [
      "1\n",
      "2\n",
      "3\n",
      "4\n",
      "5\n"
     ]
    }
   ],
   "source": [
    "i = 1\n",
    "while i < 6:\n",
    "  print(i)\n",
    "  i += 1"
   ]
  },
  {
   "cell_type": "code",
   "execution_count": 126,
   "id": "f26fdcae-4599-4c9a-af7f-30f98f91c993",
   "metadata": {},
   "outputs": [
    {
     "name": "stdout",
     "output_type": "stream",
     "text": [
      "1\n",
      "2\n",
      "3\n"
     ]
    }
   ],
   "source": [
    "i = 1\n",
    "while i < 6:\n",
    "  print(i)\n",
    "  if i == 3:\n",
    "    break\n",
    "  i += 1"
   ]
  },
  {
   "cell_type": "code",
   "execution_count": 128,
   "id": "a2d3196e-e28c-42c0-bd4c-34693ffc37a3",
   "metadata": {},
   "outputs": [
    {
     "name": "stdout",
     "output_type": "stream",
     "text": [
      "1\n",
      "2\n",
      "4\n",
      "5\n",
      "6\n"
     ]
    }
   ],
   "source": [
    "i = 0\n",
    "while i < 6:\n",
    "  i += 1\n",
    "  if i == 3:\n",
    "    continue\n",
    "  print(i)"
   ]
  },
  {
   "cell_type": "code",
   "execution_count": 130,
   "id": "50134834-d7cc-4d39-8eee-fedf827b72f6",
   "metadata": {},
   "outputs": [
    {
     "name": "stdout",
     "output_type": "stream",
     "text": [
      "1\n",
      "2\n",
      "3\n",
      "4\n",
      "5\n",
      "i is no longer less than 6\n"
     ]
    }
   ],
   "source": [
    "i = 1\n",
    "while i < 6:\n",
    "  print(i)\n",
    "  i += 1\n",
    "else:\n",
    "  print(\"i is no longer less than 6\")"
   ]
  },
  {
   "cell_type": "markdown",
   "id": "ce318f0b-9cff-4864-aa69-1e9f243b8e15",
   "metadata": {},
   "source": [
    "example 61"
   ]
  },
  {
   "cell_type": "code",
   "execution_count": 132,
   "id": "0ef0bb9f-430c-43f0-a405-b8525f701d10",
   "metadata": {},
   "outputs": [
    {
     "name": "stdout",
     "output_type": "stream",
     "text": [
      "apple\n",
      "banana\n",
      "cherry\n"
     ]
    }
   ],
   "source": [
    "fruits = [\"apple\", \"banana\", \"cherry\"]\n",
    "for x in fruits:\n",
    "  print(x)"
   ]
  },
  {
   "cell_type": "code",
   "execution_count": 134,
   "id": "8ced36f9-cd32-4496-a037-ed915bd33106",
   "metadata": {},
   "outputs": [
    {
     "name": "stdout",
     "output_type": "stream",
     "text": [
      "b\n",
      "a\n",
      "n\n",
      "a\n",
      "n\n",
      "a\n"
     ]
    }
   ],
   "source": [
    "for x in \"banana\":\n",
    "  print(x)"
   ]
  },
  {
   "cell_type": "code",
   "execution_count": 136,
   "id": "8fdfa851-95df-43ed-86c2-9b05bbea73ce",
   "metadata": {},
   "outputs": [
    {
     "name": "stdout",
     "output_type": "stream",
     "text": [
      "apple\n",
      "banana\n"
     ]
    }
   ],
   "source": [
    "fruits = [\"apple\", \"banana\", \"cherry\"]\n",
    "for x in fruits:\n",
    "  print(x)\n",
    "  if x == \"banana\":\n",
    "    break\n"
   ]
  },
  {
   "cell_type": "code",
   "execution_count": 138,
   "id": "113b2531-cef8-478c-be8f-a808a605fbe8",
   "metadata": {},
   "outputs": [
    {
     "name": "stdout",
     "output_type": "stream",
     "text": [
      "apple\n",
      "cherry\n"
     ]
    }
   ],
   "source": [
    "fruits = [\"apple\", \"banana\", \"cherry\"]\n",
    "for x in fruits:\n",
    "  if x == \"banana\":\n",
    "    continue\n",
    "  print(x)\n"
   ]
  },
  {
   "cell_type": "code",
   "execution_count": 140,
   "id": "5322b766-ef8e-46b7-8f83-5b1f6eb4be11",
   "metadata": {},
   "outputs": [
    {
     "name": "stdout",
     "output_type": "stream",
     "text": [
      "0\n",
      "1\n",
      "2\n",
      "3\n",
      "4\n",
      "5\n"
     ]
    }
   ],
   "source": [
    "for x in range(6):\n",
    "  print(x)\n"
   ]
  },
  {
   "cell_type": "code",
   "execution_count": 142,
   "id": "8dbe2172-4f2f-4494-b3fa-24d38564285a",
   "metadata": {},
   "outputs": [
    {
     "name": "stdout",
     "output_type": "stream",
     "text": [
      "2\n",
      "3\n",
      "4\n",
      "5\n"
     ]
    }
   ],
   "source": [
    "for x in range(2, 6):\n",
    "  print(x)"
   ]
  },
  {
   "cell_type": "code",
   "execution_count": 144,
   "id": "709d847f-1338-4eff-ac42-cbd3036715a1",
   "metadata": {},
   "outputs": [
    {
     "name": "stdout",
     "output_type": "stream",
     "text": [
      "2\n",
      "5\n",
      "8\n",
      "11\n",
      "14\n",
      "17\n",
      "20\n",
      "23\n",
      "26\n",
      "29\n"
     ]
    }
   ],
   "source": [
    "for x in range(2, 30, 3):\n",
    "  print(x)\n"
   ]
  },
  {
   "cell_type": "code",
   "execution_count": 146,
   "id": "6b062813-3dc2-4db2-b85c-08a499bbe63b",
   "metadata": {},
   "outputs": [
    {
     "name": "stdout",
     "output_type": "stream",
     "text": [
      "0\n",
      "1\n",
      "2\n",
      "3\n",
      "4\n",
      "5\n",
      "Finally finished!\n"
     ]
    }
   ],
   "source": [
    "for x in range(6):\n",
    "  print(x)\n",
    "else:\n",
    "  print(\"Finally finished!\")"
   ]
  },
  {
   "cell_type": "code",
   "execution_count": 148,
   "id": "1c63ee8b-a07f-4ccf-8033-2108b7de977a",
   "metadata": {},
   "outputs": [
    {
     "name": "stdout",
     "output_type": "stream",
     "text": [
      "0\n",
      "1\n",
      "2\n"
     ]
    }
   ],
   "source": [
    "for x in range(6):\n",
    "  if x == 3: break\n",
    "  print(x)\n",
    "else:\n",
    "  print(\"Finally finished!\")"
   ]
  },
  {
   "cell_type": "code",
   "execution_count": 150,
   "id": "46ce9c27-09c6-4830-a6b8-45832aede957",
   "metadata": {},
   "outputs": [
    {
     "name": "stdout",
     "output_type": "stream",
     "text": [
      "red apple\n",
      "red banana\n",
      "red cherry\n",
      "big apple\n",
      "big banana\n",
      "big cherry\n",
      "tasty apple\n",
      "tasty banana\n",
      "tasty cherry\n"
     ]
    }
   ],
   "source": [
    "adj = [\"red\", \"big\", \"tasty\"]\n",
    "fruits = [\"apple\", \"banana\", \"cherry\"]\n",
    "\n",
    "for x in adj:\n",
    "  for y in fruits:\n",
    "    print(x, y)"
   ]
  },
  {
   "cell_type": "code",
   "execution_count": 154,
   "id": "a5f94145-3ede-4bec-99aa-01a1662f11bf",
   "metadata": {},
   "outputs": [],
   "source": [
    "for x in [0, 1, 2]:\n",
    "  pass"
   ]
  },
  {
   "cell_type": "code",
   "execution_count": null,
   "id": "d7badf50-2c51-43f9-b7fb-d1f6c20b2f30",
   "metadata": {},
   "outputs": [],
   "source": []
  }
 ],
 "metadata": {
  "kernelspec": {
   "display_name": "Python [conda env:base] *",
   "language": "python",
   "name": "conda-base-py"
  },
  "language_info": {
   "codemirror_mode": {
    "name": "ipython",
    "version": 3
   },
   "file_extension": ".py",
   "mimetype": "text/x-python",
   "name": "python",
   "nbconvert_exporter": "python",
   "pygments_lexer": "ipython3",
   "version": "3.12.7"
  }
 },
 "nbformat": 4,
 "nbformat_minor": 5
}
