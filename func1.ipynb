{
 "cells": [
  {
   "cell_type": "markdown",
   "id": "0589f164-4a5f-4d3a-8ae6-000d1ec5bae6",
   "metadata": {},
   "source": [
    "task1"
   ]
  },
  {
   "cell_type": "code",
   "execution_count": 7,
   "id": "6ba21edd-f733-4125-a010-d0a758173f53",
   "metadata": {},
   "outputs": [
    {
     "name": "stdin",
     "output_type": "stream",
     "text": [
      " 12\n"
     ]
    },
    {
     "name": "stdout",
     "output_type": "stream",
     "text": [
      "0.4232875437682407\n"
     ]
    }
   ],
   "source": [
    "def myfunc(grams):\n",
    "    print(grams/28.3495231)\n",
    "\n",
    "grams = float(input())\n",
    "myfunc(grams)\n"
   ]
  },
  {
   "cell_type": "markdown",
   "id": "19c20161-7e2c-4006-be2f-235e95b4767c",
   "metadata": {},
   "source": [
    "task2"
   ]
  },
  {
   "cell_type": "code",
   "execution_count": null,
   "id": "8e7598fd-b0ef-4b94-90a4-6e6f4b54bb9f",
   "metadata": {},
   "outputs": [],
   "source": [
    "F = float(input())\n",
    "def myfunc(F):\n",
    "    print((5 / 9) * (F-32))\n",
    "myfunc(F)"
   ]
  },
  {
   "cell_type": "markdown",
   "id": "b296abe2-ca7e-4ad3-a086-e24af0302896",
   "metadata": {},
   "source": [
    "task3"
   ]
  },
  {
   "cell_type": "code",
   "execution_count": null,
   "id": "6b8bfd7d-e0da-4246-b877-1e8981f3ae87",
   "metadata": {},
   "outputs": [],
   "source": [
    "def myfunc(L,H):\n",
    "    # y = кролики\n",
    "    y = (L-2*H)/(4-2)\n",
    "    print(y)\n",
    "    # x = куры\n",
    "    x = H-y\n",
    "    print(x)\n",
    "\n",
    "H = int(input())\n",
    "L = int(input())\n",
    "myfunc(L,H)"
   ]
  },
  {
   "cell_type": "markdown",
   "id": "6694fc77-78ce-4a39-a7cf-5692cb471a7d",
   "metadata": {},
   "source": [
    "task4"
   ]
  },
  {
   "cell_type": "code",
   "execution_count": null,
   "id": "2297ecd3-3305-4b96-8527-633fcc5a97ec",
   "metadata": {},
   "outputs": [],
   "source": [
    "def is_prime(n):\n",
    "    if n<=2:\n",
    "        return False\n",
    "    for i in range(2,int(n**0.5)+1):\n",
    "        if n%i==0:\n",
    "            return False\n",
    "    return True\n",
    "def filter_prime(numbers):\n",
    "    return[num for num in numbers if is_prime(num)]\n",
    "numbers = [2,5,7,8,10,32,54,12]\n",
    "print(filter_prime(numbers)) "
   ]
  },
  {
   "cell_type": "markdown",
   "id": "4625ea97-21b6-4782-b50d-9c664c47eb54",
   "metadata": {},
   "source": [
    "task5"
   ]
  },
  {
   "cell_type": "code",
   "execution_count": null,
   "id": "7aaa7f28-4b3d-4356-894d-8cd4911d749d",
   "metadata": {},
   "outputs": [],
   "source": [
    "qwe = str(input())\n",
    "\n",
    "def rev(n):\n",
    "    return n[::-1]\n",
    "\n",
    "print(rev(qwe))"
   ]
  },
  {
   "cell_type": "markdown",
   "id": "f9466ec2-d9d0-42ca-8be2-7d2bfc738851",
   "metadata": {},
   "source": [
    "task7"
   ]
  },
  {
   "cell_type": "code",
   "execution_count": null,
   "id": "56eb5370-10c9-48e6-9d44-fd1e9471eaa5",
   "metadata": {},
   "outputs": [],
   "source": [
    "has_33=([3, 1, 3])\n",
    "\n",
    "def three(has):\n",
    "    for i in range(0,len(has)-1):\n",
    "        if has[i] == 3 and has[i+1]==3:\n",
    "            return True\n",
    "        \n",
    "    return False\n",
    "        \n",
    "if three(has_33):\n",
    "    print(\"True\")\n",
    "else:\n",
    "    print(\"False\")"
   ]
  },
  {
   "cell_type": "markdown",
   "id": "6fdc8663-43b1-4077-bec8-0c6d3037466a",
   "metadata": {},
   "source": [
    "task8"
   ]
  },
  {
   "cell_type": "code",
   "execution_count": null,
   "id": "3d5e7f4d-fa80-4d27-b0b8-4b1c194b4047",
   "metadata": {},
   "outputs": [],
   "source": [
    "spy_game=([1,7,2,0,4,5,0,0,7])\n",
    "\n",
    "def check(spy):\n",
    "    for i in range(0,len(spy)-2):\n",
    "        if spy[i] == 0 and spy[i+1] == 0 and spy[i+2] == 7:\n",
    "            return True\n",
    "    return False\n",
    "print(check(spy_game))"
   ]
  },
  {
   "cell_type": "markdown",
   "id": "e7625815-7515-4fee-a23d-1b8b57b4c143",
   "metadata": {},
   "source": [
    "task9"
   ]
  },
  {
   "cell_type": "code",
   "execution_count": null,
   "id": "7e2aaeba-a82f-4a83-a366-085c6dff348f",
   "metadata": {},
   "outputs": [],
   "source": [
    "radi = int(input())\n",
    "\n",
    "def volume(r):\n",
    "    return (4*3.14*r**3)/3\n",
    "\n",
    "print(volume(radi)"
   ]
  },
  {
   "cell_type": "markdown",
   "id": "ed47583a-8dca-4bc7-ad9d-fcce1f46b9e9",
   "metadata": {},
   "source": [
    "task10"
   ]
  },
  {
   "cell_type": "code",
   "execution_count": null,
   "id": "fc2e0ea2-ae80-4eaf-b1fd-b3ac1fe5b1d9",
   "metadata": {},
   "outputs": [],
   "source": [
    "qwe = [2,2,2,2,3,3,3,3,4,4,4,5,5,5,6,6]\n",
    "qwer = []\n",
    "\n",
    "def cher(abs):\n",
    "    qwer.append(abs[0])\n",
    "    for i in range(0,len(abs)):\n",
    "        prov = True\n",
    "        for j in range(0,len(qwer)):\n",
    "            if abs[i] == qwer[j]:\n",
    "                prov = False\n",
    "        if prov:\n",
    "            qwer.append(abs[i])    \n",
    "    return qwer\n",
    "\n",
    "print(cher(qwe))    "
   ]
  },
  {
   "cell_type": "markdown",
   "id": "ae90c99e-dbf9-4a69-8a75-9ae63b0edf56",
   "metadata": {},
   "source": [
    "task11"
   ]
  },
  {
   "cell_type": "code",
   "execution_count": null,
   "id": "46fc6ae6-493d-4077-8766-523f918e44eb",
   "metadata": {},
   "outputs": [],
   "source": [
    "qwe = str(input())\n",
    "\n",
    "def palin(qwe):\n",
    "    abs = qwe[::-1]\n",
    "    if abs == qwe:\n",
    "        return True\n",
    "    return False\n",
    "print(palin(qwe))"
   ]
  },
  {
   "cell_type": "markdown",
   "id": "ae88c6cd-e73f-4e54-bc5d-3c49c680ecfd",
   "metadata": {},
   "source": [
    "task12"
   ]
  },
  {
   "cell_type": "code",
   "execution_count": null,
   "id": "e3fcce32-d10c-406b-87cb-a501c2dd2fc2",
   "metadata": {},
   "outputs": [],
   "source": [
    "histogram = ([4, 9, 7])\n",
    "\n",
    "def write(qwe):\n",
    "    for i in range(0,len(qwe)):\n",
    "        print()\n",
    "        for j in range(qwe[i]):\n",
    "            print('*' , end = '')\n",
    "\n",
    "write(histogram)"
   ]
  },
  {
   "cell_type": "markdown",
   "id": "01412bce-3d7d-41ca-b8fc-0d5d65fd1062",
   "metadata": {},
   "source": [
    "task13"
   ]
  },
  {
   "cell_type": "code",
   "execution_count": null,
   "id": "6a0f5135-328a-43ff-8739-1dd6ea0c9585",
   "metadata": {},
   "outputs": [],
   "source": [
    "a = int((id(object()) % 20) + 1)\n",
    "\n",
    "print(\"Hello! What is your name?\")\n",
    "name = input() # name\n",
    "print(\"Well, \" + name + \" I am thinking of a number between 1 and 20.Take a guess\")\n",
    "num = int(input()) # san\n",
    "cnt = 1\n",
    "def check(a,mynum):\n",
    "    global cnt\n",
    "    if a==mynum:\n",
    "        print(\"Good job, KBTU! You guessed my number in \" + str(cnt) + \" guesses!\")\n",
    "        return 0   \n",
    "    elif a>mynum:\n",
    "        print(\"Your guess is too low.\")\n",
    "        print(\"Take a guess\")\n",
    "    elif a<mynum:\n",
    "        print(\"Your guess is too high.\")\n",
    "        print(\"Take a guess\")\n",
    "        \n",
    "    cnt += 1\n",
    "    num1 = int(input())\n",
    "    check(a,num1)\n",
    "\n",
    "check(a,num)"
   ]
  }
 ],
 "metadata": {
  "kernelspec": {
   "display_name": "Python [conda env:base] *",
   "language": "python",
   "name": "conda-base-py"
  },
  "language_info": {
   "codemirror_mode": {
    "name": "ipython",
    "version": 3
   },
   "file_extension": ".py",
   "mimetype": "text/x-python",
   "name": "python",
   "nbconvert_exporter": "python",
   "pygments_lexer": "ipython3",
   "version": "3.12.7"
  }
 },
 "nbformat": 4,
 "nbformat_minor": 5
}
